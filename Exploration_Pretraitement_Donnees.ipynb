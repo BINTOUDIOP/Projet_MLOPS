{
 "cells": [
  {
   "metadata": {},
   "cell_type": "markdown",
   "source": "### 1. Exploration des données",
   "id": "159e2486f840f79"
  },
  {
   "metadata": {
    "ExecuteTime": {
     "end_time": "2025-10-14T13:35:43.533869Z",
     "start_time": "2025-10-14T13:35:28.677370Z"
    }
   },
   "cell_type": "code",
   "source": [
    "import pandas as pd\n",
    "import numpy as np\n",
    "import matplotlib.pyplot as plt\n",
    "import seaborn as sns\n",
    "import plotly.express as px\n",
    "import plotly.figure_factory as ff\n",
    "from sklearn.preprocessing import StandardScaler\n",
    "import pickle"
   ],
   "id": "initial_id",
   "outputs": [],
   "execution_count": 4
  },
  {
   "metadata": {
    "ExecuteTime": {
     "end_time": "2025-10-14T13:36:36.072990Z",
     "start_time": "2025-10-14T13:36:36.065550Z"
    }
   },
   "cell_type": "code",
   "source": "sns.set(style=\"whitegrid\")",
   "id": "87df5f6c551c5638",
   "outputs": [],
   "execution_count": 5
  },
  {
   "metadata": {},
   "cell_type": "markdown",
   "source": "Chargement du dataset",
   "id": "e2e62b10abbf878e"
  },
  {
   "metadata": {
    "ExecuteTime": {
     "end_time": "2025-10-14T13:50:00.875312Z",
     "start_time": "2025-10-14T13:50:00.831831Z"
    }
   },
   "cell_type": "code",
   "source": [
    "data = pd.read_csv(\"data/Loan_Data.csv\")\n",
    "print(\"Shape du dataset :\", data.shape)\n",
    "data.head()"
   ],
   "id": "8bd8688c81995cbe",
   "outputs": [
    {
     "name": "stdout",
     "output_type": "stream",
     "text": [
      "Shape du dataset : (10000, 8)\n"
     ]
    },
    {
     "data": {
      "text/plain": [
       "   customer_id  credit_lines_outstanding  loan_amt_outstanding  \\\n",
       "0      8153374                         0           5221.545193   \n",
       "1      7442532                         5           1958.928726   \n",
       "2      2256073                         0           3363.009259   \n",
       "3      4885975                         0           4766.648001   \n",
       "4      4700614                         1           1345.827718   \n",
       "\n",
       "   total_debt_outstanding       income  years_employed  fico_score  default  \n",
       "0             3915.471226  78039.38546               5         605        0  \n",
       "1             8228.752520  26648.43525               2         572        1  \n",
       "2             2027.830850  65866.71246               4         602        0  \n",
       "3             2501.730397  74356.88347               5         612        0  \n",
       "4             1768.826187  23448.32631               6         631        0  "
      ],
      "text/html": [
       "<div>\n",
       "<style scoped>\n",
       "    .dataframe tbody tr th:only-of-type {\n",
       "        vertical-align: middle;\n",
       "    }\n",
       "\n",
       "    .dataframe tbody tr th {\n",
       "        vertical-align: top;\n",
       "    }\n",
       "\n",
       "    .dataframe thead th {\n",
       "        text-align: right;\n",
       "    }\n",
       "</style>\n",
       "<table border=\"1\" class=\"dataframe\">\n",
       "  <thead>\n",
       "    <tr style=\"text-align: right;\">\n",
       "      <th></th>\n",
       "      <th>customer_id</th>\n",
       "      <th>credit_lines_outstanding</th>\n",
       "      <th>loan_amt_outstanding</th>\n",
       "      <th>total_debt_outstanding</th>\n",
       "      <th>income</th>\n",
       "      <th>years_employed</th>\n",
       "      <th>fico_score</th>\n",
       "      <th>default</th>\n",
       "    </tr>\n",
       "  </thead>\n",
       "  <tbody>\n",
       "    <tr>\n",
       "      <th>0</th>\n",
       "      <td>8153374</td>\n",
       "      <td>0</td>\n",
       "      <td>5221.545193</td>\n",
       "      <td>3915.471226</td>\n",
       "      <td>78039.38546</td>\n",
       "      <td>5</td>\n",
       "      <td>605</td>\n",
       "      <td>0</td>\n",
       "    </tr>\n",
       "    <tr>\n",
       "      <th>1</th>\n",
       "      <td>7442532</td>\n",
       "      <td>5</td>\n",
       "      <td>1958.928726</td>\n",
       "      <td>8228.752520</td>\n",
       "      <td>26648.43525</td>\n",
       "      <td>2</td>\n",
       "      <td>572</td>\n",
       "      <td>1</td>\n",
       "    </tr>\n",
       "    <tr>\n",
       "      <th>2</th>\n",
       "      <td>2256073</td>\n",
       "      <td>0</td>\n",
       "      <td>3363.009259</td>\n",
       "      <td>2027.830850</td>\n",
       "      <td>65866.71246</td>\n",
       "      <td>4</td>\n",
       "      <td>602</td>\n",
       "      <td>0</td>\n",
       "    </tr>\n",
       "    <tr>\n",
       "      <th>3</th>\n",
       "      <td>4885975</td>\n",
       "      <td>0</td>\n",
       "      <td>4766.648001</td>\n",
       "      <td>2501.730397</td>\n",
       "      <td>74356.88347</td>\n",
       "      <td>5</td>\n",
       "      <td>612</td>\n",
       "      <td>0</td>\n",
       "    </tr>\n",
       "    <tr>\n",
       "      <th>4</th>\n",
       "      <td>4700614</td>\n",
       "      <td>1</td>\n",
       "      <td>1345.827718</td>\n",
       "      <td>1768.826187</td>\n",
       "      <td>23448.32631</td>\n",
       "      <td>6</td>\n",
       "      <td>631</td>\n",
       "      <td>0</td>\n",
       "    </tr>\n",
       "  </tbody>\n",
       "</table>\n",
       "</div>"
      ]
     },
     "execution_count": 7,
     "metadata": {},
     "output_type": "execute_result"
    }
   ],
   "execution_count": 7
  },
  {
   "metadata": {},
   "cell_type": "markdown",
   "source": "### 2. Statistiques descriptives",
   "id": "feb0991b49639239"
  },
  {
   "metadata": {
    "ExecuteTime": {
     "end_time": "2025-10-14T13:50:03.947356Z",
     "start_time": "2025-10-14T13:50:03.939238Z"
    }
   },
   "cell_type": "code",
   "source": [
    "# vérification des valeurs manquantes\n",
    "print(\"Valeurs manquantes par colonne :\")\n",
    "display(data.isnull().sum())"
   ],
   "id": "b93e7e740cafc605",
   "outputs": [
    {
     "name": "stdout",
     "output_type": "stream",
     "text": [
      "Valeurs manquantes par colonne :\n"
     ]
    },
    {
     "data": {
      "text/plain": [
       "customer_id                 0\n",
       "credit_lines_outstanding    0\n",
       "loan_amt_outstanding        0\n",
       "total_debt_outstanding      0\n",
       "income                      0\n",
       "years_employed              0\n",
       "fico_score                  0\n",
       "default                     0\n",
       "dtype: int64"
      ]
     },
     "metadata": {},
     "output_type": "display_data"
    }
   ],
   "execution_count": 8
  },
  {
   "metadata": {
    "ExecuteTime": {
     "end_time": "2025-10-14T13:50:06.138682Z",
     "start_time": "2025-10-14T13:50:06.120049Z"
    }
   },
   "cell_type": "code",
   "source": "data.info()",
   "id": "16f7215ccc971414",
   "outputs": [
    {
     "name": "stdout",
     "output_type": "stream",
     "text": [
      "<class 'pandas.core.frame.DataFrame'>\n",
      "RangeIndex: 10000 entries, 0 to 9999\n",
      "Data columns (total 8 columns):\n",
      " #   Column                    Non-Null Count  Dtype  \n",
      "---  ------                    --------------  -----  \n",
      " 0   customer_id               10000 non-null  int64  \n",
      " 1   credit_lines_outstanding  10000 non-null  int64  \n",
      " 2   loan_amt_outstanding      10000 non-null  float64\n",
      " 3   total_debt_outstanding    10000 non-null  float64\n",
      " 4   income                    10000 non-null  float64\n",
      " 5   years_employed            10000 non-null  int64  \n",
      " 6   fico_score                10000 non-null  int64  \n",
      " 7   default                   10000 non-null  int64  \n",
      "dtypes: float64(3), int64(5)\n",
      "memory usage: 625.1 KB\n"
     ]
    }
   ],
   "execution_count": 9
  },
  {
   "metadata": {},
   "cell_type": "markdown",
   "source": [
    "On voit que pandas considère customer_id(identifiant) et default(Variable cible binaire\n",
    ") comme des colonnes numériques(int64) à inclure dans describe()"
   ],
   "id": "124192974b4c5161"
  },
  {
   "metadata": {
    "ExecuteTime": {
     "end_time": "2025-10-14T13:50:09.154458Z",
     "start_time": "2025-10-14T13:50:09.145260Z"
    }
   },
   "cell_type": "code",
   "source": [
    "data['customer_id'] = data['customer_id'].astype('object')\n",
    "data['default'] = data['default'].astype('category')"
   ],
   "id": "b4be250c9c73ec32",
   "outputs": [],
   "execution_count": 10
  },
  {
   "metadata": {
    "ExecuteTime": {
     "end_time": "2025-10-14T13:50:10.388842Z",
     "start_time": "2025-10-14T13:50:10.363151Z"
    }
   },
   "cell_type": "code",
   "source": [
    "print(\"Statistiques descriptives :\")\n",
    "data.describe()"
   ],
   "id": "6754e4204abc3337",
   "outputs": [
    {
     "name": "stdout",
     "output_type": "stream",
     "text": [
      "Statistiques descriptives :\n"
     ]
    },
    {
     "data": {
      "text/plain": [
       "       credit_lines_outstanding  loan_amt_outstanding  total_debt_outstanding  \\\n",
       "count              10000.000000          10000.000000            10000.000000   \n",
       "mean                   1.461200           4159.677034             8718.916797   \n",
       "std                    1.743846           1421.399078             6627.164762   \n",
       "min                    0.000000             46.783973               31.652732   \n",
       "25%                    0.000000           3154.235371             4199.836020   \n",
       "50%                    1.000000           4052.377228             6732.407217   \n",
       "75%                    2.000000           5052.898103            11272.263740   \n",
       "max                    5.000000          10750.677810            43688.784100   \n",
       "\n",
       "              income  years_employed    fico_score  \n",
       "count   10000.000000    10000.000000  10000.000000  \n",
       "mean    70039.901401        4.552800    637.557700  \n",
       "std     20072.214143        1.566862     60.657906  \n",
       "min      1000.000000        0.000000    408.000000  \n",
       "25%     56539.867903        3.000000    597.000000  \n",
       "50%     70085.826330        5.000000    638.000000  \n",
       "75%     83429.166133        6.000000    679.000000  \n",
       "max    148412.180500       10.000000    850.000000  "
      ],
      "text/html": [
       "<div>\n",
       "<style scoped>\n",
       "    .dataframe tbody tr th:only-of-type {\n",
       "        vertical-align: middle;\n",
       "    }\n",
       "\n",
       "    .dataframe tbody tr th {\n",
       "        vertical-align: top;\n",
       "    }\n",
       "\n",
       "    .dataframe thead th {\n",
       "        text-align: right;\n",
       "    }\n",
       "</style>\n",
       "<table border=\"1\" class=\"dataframe\">\n",
       "  <thead>\n",
       "    <tr style=\"text-align: right;\">\n",
       "      <th></th>\n",
       "      <th>credit_lines_outstanding</th>\n",
       "      <th>loan_amt_outstanding</th>\n",
       "      <th>total_debt_outstanding</th>\n",
       "      <th>income</th>\n",
       "      <th>years_employed</th>\n",
       "      <th>fico_score</th>\n",
       "    </tr>\n",
       "  </thead>\n",
       "  <tbody>\n",
       "    <tr>\n",
       "      <th>count</th>\n",
       "      <td>10000.000000</td>\n",
       "      <td>10000.000000</td>\n",
       "      <td>10000.000000</td>\n",
       "      <td>10000.000000</td>\n",
       "      <td>10000.000000</td>\n",
       "      <td>10000.000000</td>\n",
       "    </tr>\n",
       "    <tr>\n",
       "      <th>mean</th>\n",
       "      <td>1.461200</td>\n",
       "      <td>4159.677034</td>\n",
       "      <td>8718.916797</td>\n",
       "      <td>70039.901401</td>\n",
       "      <td>4.552800</td>\n",
       "      <td>637.557700</td>\n",
       "    </tr>\n",
       "    <tr>\n",
       "      <th>std</th>\n",
       "      <td>1.743846</td>\n",
       "      <td>1421.399078</td>\n",
       "      <td>6627.164762</td>\n",
       "      <td>20072.214143</td>\n",
       "      <td>1.566862</td>\n",
       "      <td>60.657906</td>\n",
       "    </tr>\n",
       "    <tr>\n",
       "      <th>min</th>\n",
       "      <td>0.000000</td>\n",
       "      <td>46.783973</td>\n",
       "      <td>31.652732</td>\n",
       "      <td>1000.000000</td>\n",
       "      <td>0.000000</td>\n",
       "      <td>408.000000</td>\n",
       "    </tr>\n",
       "    <tr>\n",
       "      <th>25%</th>\n",
       "      <td>0.000000</td>\n",
       "      <td>3154.235371</td>\n",
       "      <td>4199.836020</td>\n",
       "      <td>56539.867903</td>\n",
       "      <td>3.000000</td>\n",
       "      <td>597.000000</td>\n",
       "    </tr>\n",
       "    <tr>\n",
       "      <th>50%</th>\n",
       "      <td>1.000000</td>\n",
       "      <td>4052.377228</td>\n",
       "      <td>6732.407217</td>\n",
       "      <td>70085.826330</td>\n",
       "      <td>5.000000</td>\n",
       "      <td>638.000000</td>\n",
       "    </tr>\n",
       "    <tr>\n",
       "      <th>75%</th>\n",
       "      <td>2.000000</td>\n",
       "      <td>5052.898103</td>\n",
       "      <td>11272.263740</td>\n",
       "      <td>83429.166133</td>\n",
       "      <td>6.000000</td>\n",
       "      <td>679.000000</td>\n",
       "    </tr>\n",
       "    <tr>\n",
       "      <th>max</th>\n",
       "      <td>5.000000</td>\n",
       "      <td>10750.677810</td>\n",
       "      <td>43688.784100</td>\n",
       "      <td>148412.180500</td>\n",
       "      <td>10.000000</td>\n",
       "      <td>850.000000</td>\n",
       "    </tr>\n",
       "  </tbody>\n",
       "</table>\n",
       "</div>"
      ]
     },
     "execution_count": 11,
     "metadata": {},
     "output_type": "execute_result"
    }
   ],
   "execution_count": 11
  },
  {
   "metadata": {
    "ExecuteTime": {
     "end_time": "2025-10-14T13:50:13.078754Z",
     "start_time": "2025-10-14T13:50:13.061103Z"
    }
   },
   "cell_type": "code",
   "source": "data.describe().to_csv(\"data/descriptive_Data.csv\")",
   "id": "6c91b7c095fa4602",
   "outputs": [],
   "execution_count": 12
  },
  {
   "metadata": {},
   "cell_type": "markdown",
   "source": "### 3. Visualisation des variables",
   "id": "b6aea49f5fd99a9c"
  },
  {
   "metadata": {},
   "cell_type": "markdown",
   "source": "Histogramme du fico_score",
   "id": "9bb5438a57e7180e"
  },
  {
   "metadata": {
    "ExecuteTime": {
     "end_time": "2025-10-14T13:50:16.791027Z",
     "start_time": "2025-10-14T13:50:15.677971Z"
    }
   },
   "cell_type": "code",
   "source": [
    "fig = px.histogram(\n",
    "    data,\n",
    "    x='fico_score',\n",
    "    nbins=20,\n",
    "    title=\"Distribution du FICO Score\",\n",
    "    color_discrete_sequence=[\"#1f77b4\"],\n",
    "    marginal=\"box\"\n",
    ")\n",
    "\n",
    "fig.update_layout(\n",
    "    xaxis_title=\"FICO Score\",\n",
    "    yaxis_title=\"Fréquence\",\n",
    "    template=\"plotly_white\"\n",
    ")\n",
    "\n",
    "fig.show()"
   ],
   "id": "dcd2689b70376c8a",
   "outputs": [
    {
     "data": {
      "application/vnd.plotly.v1+json": {
       "data": [
        {
         "bingroup": "x",
         "hovertemplate": "fico_score=%{x}<br>count=%{y}<extra></extra>",
         "legendgroup": "",
         "marker": {
          "color": "#1f77b4",
          "pattern": {
           "shape": ""
          }
         },
         "name": "",
         "nbinsx": 20,
         "orientation": "v",
         "showlegend": false,
         "x": {
          "dtype": "i2",
          "bdata": "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"
         },
         "xaxis": "x",
         "yaxis": "y",
         "type": "histogram"
        },
        {
         "hovertemplate": "fico_score=%{x}<extra></extra>",
         "legendgroup": "",
         "marker": {
          "color": "#1f77b4"
         },
         "name": "",
         "notched": true,
         "showlegend": false,
         "x": {
          "dtype": "i2",
          "bdata": "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"
         },
         "xaxis": "x2",
         "yaxis": "y2",
         "type": "box"
        }
       ],
       "layout": {
        "template": {
         "data": {
          "barpolar": [
           {
            "marker": {
             "line": {
              "color": "white",
              "width": 0.5
             },
             "pattern": {
              "fillmode": "overlay",
              "size": 10,
              "solidity": 0.2
             }
            },
            "type": "barpolar"
           }
          ],
          "bar": [
           {
            "error_x": {
             "color": "#2a3f5f"
            },
            "error_y": {
             "color": "#2a3f5f"
            },
            "marker": {
             "line": {
              "color": "white",
              "width": 0.5
             },
             "pattern": {
              "fillmode": "overlay",
              "size": 10,
              "solidity": 0.2
             }
            },
            "type": "bar"
           }
          ],
          "carpet": [
           {
            "aaxis": {
             "endlinecolor": "#2a3f5f",
             "gridcolor": "#C8D4E3",
             "linecolor": "#C8D4E3",
             "minorgridcolor": "#C8D4E3",
             "startlinecolor": "#2a3f5f"
            },
            "baxis": {
             "endlinecolor": "#2a3f5f",
             "gridcolor": "#C8D4E3",
             "linecolor": "#C8D4E3",
             "minorgridcolor": "#C8D4E3",
             "startlinecolor": "#2a3f5f"
            },
            "type": "carpet"
           }
          ],
          "choropleth": [
           {
            "colorbar": {
             "outlinewidth": 0,
             "ticks": ""
            },
            "type": "choropleth"
           }
          ],
          "contourcarpet": [
           {
            "colorbar": {
             "outlinewidth": 0,
             "ticks": ""
            },
            "type": "contourcarpet"
           }
          ],
          "contour": [
           {
            "colorbar": {
             "outlinewidth": 0,
             "ticks": ""
            },
            "colorscale": [
             [
              0.0,
              "#0d0887"
             ],
             [
              0.1111111111111111,
              "#46039f"
             ],
             [
              0.2222222222222222,
              "#7201a8"
             ],
             [
              0.3333333333333333,
              "#9c179e"
             ],
             [
              0.4444444444444444,
              "#bd3786"
             ],
             [
              0.5555555555555556,
              "#d8576b"
             ],
             [
              0.6666666666666666,
              "#ed7953"
             ],
             [
              0.7777777777777778,
              "#fb9f3a"
             ],
             [
              0.8888888888888888,
              "#fdca26"
             ],
             [
              1.0,
              "#f0f921"
             ]
            ],
            "type": "contour"
           }
          ],
          "heatmap": [
           {
            "colorbar": {
             "outlinewidth": 0,
             "ticks": ""
            },
            "colorscale": [
             [
              0.0,
              "#0d0887"
             ],
             [
              0.1111111111111111,
              "#46039f"
             ],
             [
              0.2222222222222222,
              "#7201a8"
             ],
             [
              0.3333333333333333,
              "#9c179e"
             ],
             [
              0.4444444444444444,
              "#bd3786"
             ],
             [
              0.5555555555555556,
              "#d8576b"
             ],
             [
              0.6666666666666666,
              "#ed7953"
             ],
             [
              0.7777777777777778,
              "#fb9f3a"
             ],
             [
              0.8888888888888888,
              "#fdca26"
             ],
             [
              1.0,
              "#f0f921"
             ]
            ],
            "type": "heatmap"
           }
          ],
          "histogram2dcontour": [
           {
            "colorbar": {
             "outlinewidth": 0,
             "ticks": ""
            },
            "colorscale": [
             [
              0.0,
              "#0d0887"
             ],
             [
              0.1111111111111111,
              "#46039f"
             ],
             [
              0.2222222222222222,
              "#7201a8"
             ],
             [
              0.3333333333333333,
              "#9c179e"
             ],
             [
              0.4444444444444444,
              "#bd3786"
             ],
             [
              0.5555555555555556,
              "#d8576b"
             ],
             [
              0.6666666666666666,
              "#ed7953"
             ],
             [
              0.7777777777777778,
              "#fb9f3a"
             ],
             [
              0.8888888888888888,
              "#fdca26"
             ],
             [
              1.0,
              "#f0f921"
             ]
            ],
            "type": "histogram2dcontour"
           }
          ],
          "histogram2d": [
           {
            "colorbar": {
             "outlinewidth": 0,
             "ticks": ""
            },
            "colorscale": [
             [
              0.0,
              "#0d0887"
             ],
             [
              0.1111111111111111,
              "#46039f"
             ],
             [
              0.2222222222222222,
              "#7201a8"
             ],
             [
              0.3333333333333333,
              "#9c179e"
             ],
             [
              0.4444444444444444,
              "#bd3786"
             ],
             [
              0.5555555555555556,
              "#d8576b"
             ],
             [
              0.6666666666666666,
              "#ed7953"
             ],
             [
              0.7777777777777778,
              "#fb9f3a"
             ],
             [
              0.8888888888888888,
              "#fdca26"
             ],
             [
              1.0,
              "#f0f921"
             ]
            ],
            "type": "histogram2d"
           }
          ],
          "histogram": [
           {
            "marker": {
             "pattern": {
              "fillmode": "overlay",
              "size": 10,
              "solidity": 0.2
             }
            },
            "type": "histogram"
           }
          ],
          "mesh3d": [
           {
            "colorbar": {
             "outlinewidth": 0,
             "ticks": ""
            },
            "type": "mesh3d"
           }
          ],
          "parcoords": [
           {
            "line": {
             "colorbar": {
              "outlinewidth": 0,
              "ticks": ""
             }
            },
            "type": "parcoords"
           }
          ],
          "pie": [
           {
            "automargin": true,
            "type": "pie"
           }
          ],
          "scatter3d": [
           {
            "line": {
             "colorbar": {
              "outlinewidth": 0,
              "ticks": ""
             }
            },
            "marker": {
             "colorbar": {
              "outlinewidth": 0,
              "ticks": ""
             }
            },
            "type": "scatter3d"
           }
          ],
          "scattercarpet": [
           {
            "marker": {
             "colorbar": {
              "outlinewidth": 0,
              "ticks": ""
             }
            },
            "type": "scattercarpet"
           }
          ],
          "scattergeo": [
           {
            "marker": {
             "colorbar": {
              "outlinewidth": 0,
              "ticks": ""
             }
            },
            "type": "scattergeo"
           }
          ],
          "scattergl": [
           {
            "marker": {
             "colorbar": {
              "outlinewidth": 0,
              "ticks": ""
             }
            },
            "type": "scattergl"
           }
          ],
          "scattermapbox": [
           {
            "marker": {
             "colorbar": {
              "outlinewidth": 0,
              "ticks": ""
             }
            },
            "type": "scattermapbox"
           }
          ],
          "scattermap": [
           {
            "marker": {
             "colorbar": {
              "outlinewidth": 0,
              "ticks": ""
             }
            },
            "type": "scattermap"
           }
          ],
          "scatterpolargl": [
           {
            "marker": {
             "colorbar": {
              "outlinewidth": 0,
              "ticks": ""
             }
            },
            "type": "scatterpolargl"
           }
          ],
          "scatterpolar": [
           {
            "marker": {
             "colorbar": {
              "outlinewidth": 0,
              "ticks": ""
             }
            },
            "type": "scatterpolar"
           }
          ],
          "scatter": [
           {
            "fillpattern": {
             "fillmode": "overlay",
             "size": 10,
             "solidity": 0.2
            },
            "type": "scatter"
           }
          ],
          "scatterternary": [
           {
            "marker": {
             "colorbar": {
              "outlinewidth": 0,
              "ticks": ""
             }
            },
            "type": "scatterternary"
           }
          ],
          "surface": [
           {
            "colorbar": {
             "outlinewidth": 0,
             "ticks": ""
            },
            "colorscale": [
             [
              0.0,
              "#0d0887"
             ],
             [
              0.1111111111111111,
              "#46039f"
             ],
             [
              0.2222222222222222,
              "#7201a8"
             ],
             [
              0.3333333333333333,
              "#9c179e"
             ],
             [
              0.4444444444444444,
              "#bd3786"
             ],
             [
              0.5555555555555556,
              "#d8576b"
             ],
             [
              0.6666666666666666,
              "#ed7953"
             ],
             [
              0.7777777777777778,
              "#fb9f3a"
             ],
             [
              0.8888888888888888,
              "#fdca26"
             ],
             [
              1.0,
              "#f0f921"
             ]
            ],
            "type": "surface"
           }
          ],
          "table": [
           {
            "cells": {
             "fill": {
              "color": "#EBF0F8"
             },
             "line": {
              "color": "white"
             }
            },
            "header": {
             "fill": {
              "color": "#C8D4E3"
             },
             "line": {
              "color": "white"
             }
            },
            "type": "table"
           }
          ]
         },
         "layout": {
          "annotationdefaults": {
           "arrowcolor": "#2a3f5f",
           "arrowhead": 0,
           "arrowwidth": 1
          },
          "autotypenumbers": "strict",
          "coloraxis": {
           "colorbar": {
            "outlinewidth": 0,
            "ticks": ""
           }
          },
          "colorscale": {
           "diverging": [
            [
             0,
             "#8e0152"
            ],
            [
             0.1,
             "#c51b7d"
            ],
            [
             0.2,
             "#de77ae"
            ],
            [
             0.3,
             "#f1b6da"
            ],
            [
             0.4,
             "#fde0ef"
            ],
            [
             0.5,
             "#f7f7f7"
            ],
            [
             0.6,
             "#e6f5d0"
            ],
            [
             0.7,
             "#b8e186"
            ],
            [
             0.8,
             "#7fbc41"
            ],
            [
             0.9,
             "#4d9221"
            ],
            [
             1,
             "#276419"
            ]
           ],
           "sequential": [
            [
             0.0,
             "#0d0887"
            ],
            [
             0.1111111111111111,
             "#46039f"
            ],
            [
             0.2222222222222222,
             "#7201a8"
            ],
            [
             0.3333333333333333,
             "#9c179e"
            ],
            [
             0.4444444444444444,
             "#bd3786"
            ],
            [
             0.5555555555555556,
             "#d8576b"
            ],
            [
             0.6666666666666666,
             "#ed7953"
            ],
            [
             0.7777777777777778,
             "#fb9f3a"
            ],
            [
             0.8888888888888888,
             "#fdca26"
            ],
            [
             1.0,
             "#f0f921"
            ]
           ],
           "sequentialminus": [
            [
             0.0,
             "#0d0887"
            ],
            [
             0.1111111111111111,
             "#46039f"
            ],
            [
             0.2222222222222222,
             "#7201a8"
            ],
            [
             0.3333333333333333,
             "#9c179e"
            ],
            [
             0.4444444444444444,
             "#bd3786"
            ],
            [
             0.5555555555555556,
             "#d8576b"
            ],
            [
             0.6666666666666666,
             "#ed7953"
            ],
            [
             0.7777777777777778,
             "#fb9f3a"
            ],
            [
             0.8888888888888888,
             "#fdca26"
            ],
            [
             1.0,
             "#f0f921"
            ]
           ]
          },
          "colorway": [
           "#636efa",
           "#EF553B",
           "#00cc96",
           "#ab63fa",
           "#FFA15A",
           "#19d3f3",
           "#FF6692",
           "#B6E880",
           "#FF97FF",
           "#FECB52"
          ],
          "font": {
           "color": "#2a3f5f"
          },
          "geo": {
           "bgcolor": "white",
           "lakecolor": "white",
           "landcolor": "white",
           "showlakes": true,
           "showland": true,
           "subunitcolor": "#C8D4E3"
          },
          "hoverlabel": {
           "align": "left"
          },
          "hovermode": "closest",
          "mapbox": {
           "style": "light"
          },
          "paper_bgcolor": "white",
          "plot_bgcolor": "white",
          "polar": {
           "angularaxis": {
            "gridcolor": "#EBF0F8",
            "linecolor": "#EBF0F8",
            "ticks": ""
           },
           "bgcolor": "white",
           "radialaxis": {
            "gridcolor": "#EBF0F8",
            "linecolor": "#EBF0F8",
            "ticks": ""
           }
          },
          "scene": {
           "xaxis": {
            "backgroundcolor": "white",
            "gridcolor": "#DFE8F3",
            "gridwidth": 2,
            "linecolor": "#EBF0F8",
            "showbackground": true,
            "ticks": "",
            "zerolinecolor": "#EBF0F8"
           },
           "yaxis": {
            "backgroundcolor": "white",
            "gridcolor": "#DFE8F3",
            "gridwidth": 2,
            "linecolor": "#EBF0F8",
            "showbackground": true,
            "ticks": "",
            "zerolinecolor": "#EBF0F8"
           },
           "zaxis": {
            "backgroundcolor": "white",
            "gridcolor": "#DFE8F3",
            "gridwidth": 2,
            "linecolor": "#EBF0F8",
            "showbackground": true,
            "ticks": "",
            "zerolinecolor": "#EBF0F8"
           }
          },
          "shapedefaults": {
           "line": {
            "color": "#2a3f5f"
           }
          },
          "ternary": {
           "aaxis": {
            "gridcolor": "#DFE8F3",
            "linecolor": "#A2B1C6",
            "ticks": ""
           },
           "baxis": {
            "gridcolor": "#DFE8F3",
            "linecolor": "#A2B1C6",
            "ticks": ""
           },
           "bgcolor": "white",
           "caxis": {
            "gridcolor": "#DFE8F3",
            "linecolor": "#A2B1C6",
            "ticks": ""
           }
          },
          "title": {
           "x": 0.05
          },
          "xaxis": {
           "automargin": true,
           "gridcolor": "#EBF0F8",
           "linecolor": "#EBF0F8",
           "ticks": "",
           "title": {
            "standoff": 15
           },
           "zerolinecolor": "#EBF0F8",
           "zerolinewidth": 2
          },
          "yaxis": {
           "automargin": true,
           "gridcolor": "#EBF0F8",
           "linecolor": "#EBF0F8",
           "ticks": "",
           "title": {
            "standoff": 15
           },
           "zerolinecolor": "#EBF0F8",
           "zerolinewidth": 2
          }
         }
        },
        "xaxis": {
         "anchor": "y",
         "domain": [
          0.0,
          1.0
         ],
         "title": {
          "text": "FICO Score"
         }
        },
        "yaxis": {
         "anchor": "x",
         "domain": [
          0.0,
          0.8316
         ],
         "title": {
          "text": "Fréquence"
         }
        },
        "xaxis2": {
         "anchor": "y2",
         "domain": [
          0.0,
          1.0
         ],
         "matches": "x",
         "showticklabels": false,
         "showgrid": true
        },
        "yaxis2": {
         "anchor": "x2",
         "domain": [
          0.8416,
          1.0
         ],
         "matches": "y2",
         "showticklabels": false,
         "showline": false,
         "ticks": "",
         "showgrid": false
        },
        "legend": {
         "tracegroupgap": 0
        },
        "title": {
         "text": "Distribution du FICO Score"
        },
        "barmode": "relative"
       },
       "config": {
        "plotlyServerURL": "https://plot.ly"
       }
      }
     },
     "metadata": {},
     "output_type": "display_data"
    }
   ],
   "execution_count": 13
  },
  {
   "metadata": {},
   "cell_type": "markdown",
   "source": "Boxplot income vs default",
   "id": "a01e715832c5508f"
  },
  {
   "metadata": {
    "ExecuteTime": {
     "end_time": "2025-10-14T13:50:21.285043Z",
     "start_time": "2025-10-14T13:50:21.198975Z"
    }
   },
   "cell_type": "code",
   "source": [
    "fig = px.box(data, x='default', y='income', color='default',\n",
    "             color_discrete_sequence=px.colors.qualitative.Set2,\n",
    "             points=\"all\",  # affiche tous les points\n",
    "             title=\"income vs default\")\n",
    "\n",
    "fig.update_layout(xaxis_title=\"default\", yaxis_title=\"income\")\n",
    "fig.show()"
   ],
   "id": "ae16fdf1010f8688",
   "outputs": [
    {
     "data": {
      "application/vnd.plotly.v1+json": {
       "data": [
        {
         "alignmentgroup": "True",
         "boxpoints": "all",
         "hovertemplate": "default=%{x}<br>income=%{y}<extra></extra>",
         "legendgroup": "0",
         "marker": {
          "color": "rgb(102,194,165)"
         },
         "name": "0",
         "notched": false,
         "offsetgroup": "0",
         "orientation": "v",
         "showlegend": true,
         "x": {
          "dtype": "i1",
          "bdata": "AAAAAAAAAAAAAAAAAAAAAAAAAAAAAAAAAAAAAAAAAAAAAAAAAAAAAAAAAAAAAAAAAAAAAAAAAAAAAAAAAAAAAAAAAAAAAAAAAAAAAAAAAAAAAAAAAAAAAAAAAAAAAAAAAAAAAAAAAAAAAAAAAAAAAAAAAAAAAAAAAAAAAAAAAAAAAAAAAAAAAAAAAAAAAAAAAAAAAAAAAAAAAAAAAAAAAAAAAAAAAAAAAAAAAAAAAAAAAAAAAAAAAAAAAAAAAAAAAAAAAAAAAAAAAAAAAAAAAAAAAAAAAAAAAAAAAAAAAAAAAAAAAAAAAAAAAAAAAAAAAAAAAAAAAAAAAAAAAAAAAAAAAAAAAAAAAAAAAAAAAAAAAAAAAAAAAAAAAAAAAAAAAAAAAAAAAAAAAAAAAAAAAAAAAAAAAAAAAAAAAAAAAAAAAAAAAAAAAAAAAAAAAAAAAAAAAAAAAAAAAAAAAAAAAAAAAAAAAAAAAAAAAAAAAAAAAAAAAAAAAAAAAAAAAAAAAAAAAAAAAAAAAAAAAAAAAAAAAAAAAAAAAAAAAAAAAAAAAAAAAAAAAAAAAAAAAAAAAAAAAAAAAAAAAAAAAAAAAAAAAAAAAAAAAAAAAAAAAAAAAAAAAAAAAAAAAAAAAAAAAAAAAAAAAAAAAAAAAAAAAAAAAAAAAAAAAAAAAAAAAAAAAAAAAAAAAAAAAAAAAAAAAAAAAAAAAAAAAAAAAAAAAAAAAAAAAAAAAAAAAAAAAAAAAAAAAAAAAAAAAAAAAAAAAAAAAAAAAAAAAAAAAAAAAAAAAAAAAAAAAAAAAAAAAAAAAAAAAAAAAAAAAAAAAAAAAAAAAAAAAAAAAAAAAAAAAAAAAAAAAAAAAAAAAAAAAAAAAAAAAAAAAAAAAAAAAAAAAAAAAAAAAAAAAAAAAAAAAAAAAAAAAAAAAAAAAAAAAAAAAAAAAAAAAAAAAAAAAAAAAAAAAAAAAAAAAAAAAAAAAAAAAAAAAAAAAAAAAAAAAAAAAAAAAAAAAAAAAAAAAAAAAAAAAAAAAAAAAAAAAAAAAAAAAAAAAAAAAAAAAAAAAAAAAAAAAAAAAAAAAAAAAAAAAAAAAAAAAAAAAAAAAAAAAAAAAAAAAAAAAAAAAAAAAAAAAAAAAAAAAAAAAAAAAAAAAAAAAAAAAAAAAAAAAAAAAAAAAAAAAAAAAAAAAAAAAAAAAAAAAAAAAAAAAAAAAAAAAAAAAAAAAAAAAAAAAAAAAAAAAAAAAAAAAAAAAAAAAAAAAAAAAAAAAAAAAAAAAAAAAAAAAAAAAAAAAAAAAAAAAAAAAAAAAAAAAAAAAAAAAAAAAAAAAAAAAAAAAAAAAAAAAAAAAAAAAAAAAAAAAAAAAAAAAAAAAAAAAAAAAAAAAAAAAAAAAAAAAAAAAAAAAAAAAAAAAAAAAAAAAAAAAAAAAAAAAAAAAAAAAAAAAAAAAAAAAAAAAAAAAAAAAAAAAAAAAAAAAAAAAAAAAAAAAAAAAAAAAAAAAAAAAAAAAAAAAAAAAAAAAAAAAAAAAAAAAAAAAAAAAAAAAAAAAAAAAAAAAAAAAAAAAAAAAAAAAAAAAAAAAAAAAAAAAAAAAAAAAAAAAAAAAAAAAAAAAAAAAAAAAAAAAAAAAAAAAAAAAAAAAAAAAAAAAAAAAAAAAAAAAAAAAAAAAAAAAAAAAAAAAAAAAAAAAAAAAAAAAAAAAAAAAAAAAAAAAAAAAAAAAAAAAAAAAAAAAAAAAAAAAAAAAAAAAAAAAAAAAAAAAAAAAAAAAAAAAAAAAAAAAAAAAAAAAAAAAAAAAAAAAAAAAAAAAAAAAAAAAAAAAAAAAAAAAAAAAAAAAAAAAAAAAAAAAAAAAAAAAAAAAAAAAAAAAAAAAAAAAAAAAAAAAAAAAAAAAAAAAAAAAAAAAAAAAAAAAAAAAAAAAAAAAAAAAAAAAAAAAAAAAAAAAAAAAAAAAAAAAAAAAAAAAAAAAAAAAAAAAAAAAAAAAAAAAAAAAAAAAAAAAAAAAAAAAAAAAAAAAAAAAAAAAAAAAAAAAAAAAAAAAAAAAAAAAAAAAAAAAAAAAAAAAAAAAAAAAAAAAAAAAAAAAAAAAAAAAAAAAAAAAAAAAAAAAAAAAAAAAAAAAAAAAAAAAAAAAAAAAAAAAAAAAAAAAAAAAAAAAAAAAAAAAAAAAAAAAAAAAAAAAAAAAAAAAAAAAAAAAAAAAAAAAAAAAAAAAAAAAAAAAAAAAAAAAAAAAAAAAAAAAAAAAAAAAAAAAAAAAAAAAAAAAAAAAAAAAAAAAAAAAAAAAAAAAAAAAAAAAAAAAAAAAAAAAAAAAAAAAAAAAAAAAAAAAAAAAAAAAAAAAAAAAAAAAAAAAAAAAAAAAAAAAAAAAAAAAAAAAAAAAAAAAAAAAAAAAAAAAAAAAAAAAAAAAAAAAAAAAAAAAAAAAAAAAAAAAAAAAAAAAAAAAAAAAAAAAAAAAAAAAAAAAAAAAAAAAAAAAAAAAAAAAAAAAAAAAAAAAAAAAAAAAAAAAAAAAAAAAAAAAAAAAAAAAAAAAAAAAAAAAAAAAAAAAAAAAAAAAAAAAAAAAAAAAAAAAAAAAAAAAAAAAAAAAAAAAAAAAAAAAAAAAAAAAAAAAAAAAAAAAAAAAAAAAAAAAAAAAAAAAAAAAAAAAAAAAAAAAAAAAAAAAAAAAAAAAAAAAAAAAAAAAAAAAAAAAAAAAAAAAAAAAAAAAAAAAAAAAAAAAAAAAAAAAAAAAAAAAAAAAAAAAAAAAAAAAAAAAAAAAAAAAAAAAAAAAAAAAAAAAAAAAAAAAAAAAAAAAAAAAAAAAAAAAAAAAAAAAAAAAAAAAAAAAAAAAAAAAAAAAAAAAAAAAAAAAAAAAAAAAAAAAAAAAAAAAAAAAAAAAAAAAAAAAAAAAAAAAAAAAAAAAAAAAAAAAAAAAAAAAAAAAAAAAAAAAAAAAAAAAAAAAAAAAAAAAAAAAAAAAAAAAAAAAAAAAAAAAAAAAAAAAAAAAAAAAAAAAAAAAAAAAAAAAAAAAAAAAAAAAAAAAAAAAAAAAAAAAAAAAAAAAAAAAAAAAAAAAAAAAAAAAAAAAAAAAAAAAAAAAAAAAAAAAAAAAAAAAAAAAAAAAAAAAAAAAAAAAAAAAAAAAAAAAAAAAAAAAAAAAAAAAAAAAAAAAAAAAAAAAAAAAAAAAAAAAAAAAAAAAAAAAAAAAAAAAAAAAAAAAAAAAAAAAAAAAAAAAAAAAAAAAAAAAAAAAAAAAAAAAAAAAAAAAAAAAAAAAAAAAAAAAAAAAAAAAAAAAAAAAAAAAAAAAAAAAAAAAAAAAAAAAAAAAAAAAAAAAAAAAAAAAAAAAAAAAAAAAAAAAAAAAAAAAAAAAAAAAAAAAAAAAAAAAAAAAAAAAAAAAAAAAAAAAAAAAAAAAAAAAAAAAAAAAAAAAAAAAAAAAAAAAAAAAAAAAAAAAAAAAAAAAAAAAAAAAAAAAAAAAAAAAAAAAAAAAAAAAAAAAAAAAAAAAAAAAAAAAAAAAAAAAAAAAAAAAAAAAAAAAAAAAAAAAAAAAAAAAAAAAAAAAAAAAAAAAAAAAAAAAAAAAAAAAAAAAAAAAAAAAAAAAAAAAAAAAAAAAAAAAAAAAAAAAAAAAAAAAAAAAAAAAAAAAAAAAAAAAAAAAAAAAAAAAAAAAAAAAAAAAAAAAAAAAAAAAAAAAAAAAAAAAAAAAAAAAAAAAAAAAAAAAAAAAAAAAAAAAAAAAAAAAAAAAAAAAAAAAAAAAAAAAAAAAAAAAAAAAAAAAAAAAAAAAAAAAAAAAAAAAAAAAAAAAAAAAAAAAAAAAAAAAAAAAAAAAAAAAAAAAAAAAAAAAAAAAAAAAAAAAAAAAAAAAAAAAAAAAAAAAAAAAAAAAAAAAAAAAAAAAAAAAAAAAAAAAAAAAAAAAAAAAAAAAAAAAAAAAAAAAAAAAAAAAAAAAAAAAAAAAAAAAAAAAAAAAAAAAAAAAAAAAAAAAAAAAAAAAAAAAAAAAAAAAAAAAAAAAAAAAAAAAAAAAAAAAAAAAAAAAAAAAAAAAAAAAAAAAAAAAAAAAAAAAAAAAAAAAAAAAAAAAAAAAAAAAAAAAAAAAAAAAAAAAAAAAAAAAAAAAAAAAAAAAAAAAAAAAAAAAAAAAAAAAAAAAAAAAAAAAAAAAAAAAAAAAAAAAAAAAAAAAAAAAAAAAAAAAAAAAAAAAAAAAAAAAAAAAAAAAAAAAAAAAAAAAAAAAAAAAAAAAAAAAAAAAAAAAAAAAAAAAAAAAAAAAAAAAAAAAAAAAAAAAAAAAAAAAAAAAAAAAAAAAAAAAAAAAAAAAAAAAAAAAAAAAAAAAAAAAAAAAAAAAAAAAAAAAAAAAAAAAAAAAAAAAAAAAAAAAAAAAAAAAAAAAAAAAAAAAAAAAAAAAAAAAAAAAAAAAAAAAAAAAAAAAAAAAAAAAAAAAAAAAAAAAAAAAAAAAAAAAAAAAAAAAAAAAAAAAAAAAAAAAAAAAAAAAAAAAAAAAAAAAAAAAAAAAAAAAAAAAAAAAAAAAAAAAAAAAAAAAAAAAAAAAAAAAAAAAAAAAAAAAAAAAAAAAAAAAAAAAAAAAAAAAAAAAAAAAAAAAAAAAAAAAAAAAAAAAAAAAAAAAAAAAAAAAAAAAAAAAAAAAAAAAAAAAAAAAAAAAAAAAAAAAAAAAAAAAAAAAAAAAAAAAAAAAAAAAAAAAAAAAAAAAAAAAAAAAAAAAAAAAAAAAAAAAAAAAAAAAAAAAAAAAAAAAAAAAAAAAAAAAAAAAAAAAAAAAAAAAAAAAAAAAAAAAAAAAAAAAAAAAAAAAAAAAAAAAAAAAAAAAAAAAAAAAAAAAAAAAAAAAAAAAAAAAAAAAAAAAAAAAAAAAAAAAAAAAAAAAAAAAAAAAAAAAAAAAAAAAAAAAAAAAAAAAAAAAAAAAAAAAAAAAAAAAAAAAAAAAAAAAAAAAAAAAAAAAAAAAAAAAAAAAAAAAAAAAAAAAAAAAAAAAAAAAAAAAAAAAAAAAAAAAAAAAAAAAAAAAAAAAAAAAAAAAAAAAAAAAAAAAAAAAAAAAAAAAAAAAAAAAAAAAAAAAAAAAAAAAAAAAAAAAAAAAAAAAAAAAAAAAAAAAAAAAAAAAAAAAAAAAAAAAAAAAAAAAAAAAAAAAAAAAAAAAAAAAAAAAAAAAAAAAAAAAAAAAAAAAAAAAAAAAAAAAAAAAAAAAAAAAAAAAAAAAAAAAAAAAAAAAAAAAAAAAAAAAAAAAAAAAAAAAAAAAAAAAAAAAAAAAAAAAAAAAAAAAAAAAAAAAAAAAAAAAAAAAAAAAAAAAAAAAAAAAAAAAAAAAAAAAAAAAAAAAAAAAAAAAAAAAAAAAAAAAAAAAAAAAAAAAAAAAAAAAAAAAAAAAAAAAAAAAAAAAAAAAAAAAAAAAAAAAAAAAAAAAAAAAAAAAAAAAAAAAAAAAAAAAAAAAAAAAAAAAAAAAAAAAAAAAAAAAAAAAAAAAAAAAAAAAAAAAAAAAAAAAAAAAAAAAAAAAAAAAAAAAAAAAAAAAAAAAAAAAAAAAAAAAAAAAAAAAAAAAAAAAAAAAAAAAAAAAAAAAAAAAAAAAAAAAAAAAAAAAAAAAAAAAAAAAAAAAAAAAAAAAAAAAAAAAAAAAAAAAAAAAAAAAAAAAAAAAAAAAAAAAAAAAAAAAAAAAAAAAAAAAAAAAAAAAAAAAAAAAAAAAAAAAAAAAAAAAAAAAAAAAAAAAAAAAAAAAAAAAAAAAAAAAAAAAAAAAAAAAAAAAAAAAAAAAAAAAAAAAAAAAAAAAAAAAAAAAAAAAAAAAAAAAAAAAAAAAAAAAAAAAAAAAAAAAAAAAAAAAAAAAAAAAAAAAAAAAAAAAAAAAAAAAAAAAAAAAAAAAAAAAAAAAAAAAAAAAAAAAAAAAAAAAAAAAAAAAAAAAAAAAAAAAAAAAAAAAAAAAAAAAAAAAAAAAAAAAAAAAAAAAAAAAAAAAAAAAAAAAAAAAAAAAAAAAAAAAAAAAAAAAAAAAAAAAAAAAAAAAAAAAAAAAAAAAAAAAAAAAAAAAAAAAAAAAAAAAAAAAAAAAAAAAAAAAAAAAAAAAAAAAAAAAAAAAAAAAAAAAAAAAAAAAAAAAAAAAAAAAAAAAAAAAAAAAAAAAAAAAAAAAAAAAAAAAAAAAAAAAAAAAAAAAAAAAAAAAAAAAAAAAAAAAAAAAAAAAAAAAAAAAAAAAAAAAAAAAAAAAAAAAAAAAAAAAAAAAAAAAAAAAAAAAAAAAAAAAAAAAAAAAAAAAAAAAAAAAAAAAAAAAAAAAAAAAAAAAAAAAAAAAAAAAAAAAAAAAAAAAAAAAAAAAAAAAAAAAAAAAAAAAAAAAAAAAAAAAAAAAAAAAAAAAAAAAAAAAAAAAAAAAAAAAAAAAAAAAAAAAAAAAAAAAAAAAAAAAAAAAAAAAAAAAAAAAAAAAAAAAAAAAAAAAAAAAAAAAAAAAAAAAAAAAAAAAAAAAAAAAAAAAAAAAAAAAAAAAAAAAAAAAAAAAAAAAAAAAAAAAAAAAAAAAAAAAAAAAAAAAAAAAAAAAAAAAAAAAAAAAAAAAAAAAAAAAAAAAAAAAAAAAAAAAAAAAAAAAAAAAAAAAAAAAAAAAAAAAAAAAAAAAAAAAAAAAAAAAAAAAAAAAAAAAAAAAAAAAAAAAAAAAAAAAAAAAAAAAAAAAAAAAAAAAAAAAAAAAAAAAAAAAAAAAAAAAAAAAAAAAAAAAAAAAAAAAAAAAAAAAAAAAAAAAAAAAAAAAAAAAAAAAAAAAAAAAAAAAAAAAAAAAAAAAAAAAAAAAAAAAAAAAAAAAAAAAAAAAAAAAAAAAAAAAAAAAAAAAAAAAAAAAAAAAAAAAAAAAAAAAAAAAAAAAAAAAAAAAAAAAAAAAAAAAAAAAAAAAAAAAAAAAAAAAAAAAAAAAAAAAAAAAAAAAAAAAAAAAAAAAAAAAAAAAAAAAAAAAAAAAAAAAAAAAAAAAAAAAAAAAAAAAAAAAAAAAAAAAAAAAAAAAAAAAAAAAAAAAAAAAAAAAAAAAAAAAAAAAAAAAAAAAAAAAAAAAAAAAAAAAAAAAAAAAAAAAAAAAAAAAAAAAAAAAAAAAAAAAAAAAAAAAAAAAAAAAAAAAAAAAAAAAAAAAAAAAAAAAAAAAAAAAAAAAAAAAAAAAAAAAAAAAAAAAAAAAAAAAAAAAAAAAAAAAAAAAAAAAAAAAAAAAAAAAAAAAAAAAAAAAAAAAAAAAAAAAAAAAAAAAAAAAAAAAAAAAAAAAAAAAAAAAAAAAAAAAAAAAAAAAAAAAAAAAAAAAAAAAAAAAAAAAAAAAAAAAAAAAAAAAAAAAAAAAAAAAAAAAAAAAAAAAAAAAAAAAAAAAAAAAAAAAAAAAAAAAAAAAAAAAAAAAAAAAAAAAAAAAAAAAAAAAAAAAAAAAAAAAAAAAAAAAAAAAAAAAAAAAAAAAAAAAAAAAAAAAAAAAAAAAAAAAAAAAAAAAAAAAAAAAAAAAAAAAAAAAAAAAAAAAAAAAAAAAAAAAAAAAAAAAAAAAAAAAAAAAAAAAAAAAAAAAAAAAAAAAAAAAAAAAAAAAAAAAAAAAAAAAAAAAAAAAAAAAAAAAAAAAAAAAAAAAAAAAAAAAAAAAAAAAAAAAAAAAAAAAAAAAAAAAAAAAAAAAAAAAAAAAAAAAAAAAAAAAAAAAAAAAAAAAAAAAAAAAAAAAAAAAAAAAAAAAAAAAAAAAAAAAAAAAAAAAAAAAAAAAAAAAAAAAAAAAAAAAAAAAAAAAAAAAAAAAAAAAAAAAAAAAAAAAAAAAAAAAAAAAAAAAAAAAAAAAAAAAAAAAAAAAAAAAAAAAAAAAAAAAAAAAAAAAAAAAAAAAAAAAAAAAAAAAAAAAAAAAAAAAAAAAAAAAAAAAAAAAAAAAAAAAAAAAAAAAAAAAAAAAAAAAAAAAAAAAAAAAAAAAAAAAAAAAAAAAAAAAAAAAAAAAAAAAAAAAAAAAAAAAAAAAAAAAAAAAAAAAAAAAAAAAAAAAAAAAAAAAAAAAAAAAAAAAAAAAAAAAAAAAAAAAAAAAAAAAAAAAAAAAAAAAAAAAAAAAAAAAAAAAAAAAAAAAAAAAAAAAAAAAAAAAAAAAAAAAAAAAAAAAAAAAAAAAAAAAAAAAAAAAAAAAAAAAAAAAAAAAAAAAAAAAAAAAAAAAAAAAAAAAAAAAAAAAAAAAAAAAAAAAAAAAAAAAAAAAAAAAAAAAAAAAAAAAAAAAAAAAAAAAAAAAAAAAAAAAAAAAAAAAAAAAAAAAAAAAAAAAAAAAAAAAAAAAAAAAAAAAAAAAAAAAAAAAAAAAAAAAAAAAAAAAAAAAAAAAAAAAAAAAAAAAAAAAAAAAAAAAAAAAAAAAAAAAAAAAAAAAAAAAAAAAAAAAAAAAAAAAAAAAAAAAAAAAAAAAAAAAAAAAAAAAAAAAAAAAAAAAAAAAAAAAAAAAAAAAAAAAAAAAAAAAAAAAAAAAAAAAAAAAAAAAAAAAAAAAAAAAAAAAAAAAAAAAAAAAAAAAAAAAAAAAAAAAAAAAAAAAAAAAAAAAAAAAAAAAAAAAAAAAAAAAAAAAAAAAAAAAAAAAAAAAAAAAAAAAAAAAAAAAAAAAAAAAAAAAAAAAAAAAAAAAAAAAAAAAAAAAAAAAAAAAAAAAAAAAAAAAAAAAAAAAAAAAAAAAAAAAAAAAAAAAAAAAAAAAAAAAAAAAAAAAAAAAAAAAAAAAAAAAAAAAAAAAAAAAAAAAAAAAAAAAAAAAAAAAAAAAAAAAAAAAAAAAAAAAAAAAAAAAAAAAAAAAAAAAAAAAAAAAAAAAAAAAAAAAAAAAAAAAAAAAAAAAAAAAAAAAAAAAAAAAAAAAAAAAAAAAAAAAAAAAAAAAAAAAAAAAAAAAAAAAAAAAAAAAAAAAAAAAAAAAAAAAAAAAAAAAAAAAAAAAAAAAAAAAAAAAAAAAAAAAAAAAAAAAAAAAAAAAAAAAAAAAAAAAAAAAAAAAAAAAAAAAAAAAAAAAAAAAAAAAAAAAAAAAAAAAAAAAAAAAAAAAAAAAAAAAAAAAAAAAAAAAAAAAAAAAAAAAAAAAAAAAAAAAAAAAAAAAAAAAAAAAAAAAAAAAAAAAAAAAAAAAAAAAAAAAAAAAAAAAAAAAAAAAAAAAAAAAAAAAAAAAAAAAAAAAAAAAAAAAAAAAAAAAAAAAAAAAAAAAAAAAAAAAAAAAAAAAAAAAAAAAAAAAAAAAAAAAAAAAAAAAAAAAAAAAAAAAAAAAAAAAAAAAAAAAAAAAAAAAAAAAAAAAAAAAAAAAAAAAAAAAAAAAAAAAAAAAAAAAAAAAAAAAAAAAAAAAAAAAAAAAAAAAAAAAAAAAAAAAAAAAAAAAAAAAAAAAAAAAAAAAAAAAAAAAAAAAAAAAAAAAAAAAAAAAAAAAAAAAAAAAAAAAAAAAAAAAAAAAAAAAAAAAAAAAAAAAAAAAAAAAAAAAAAAAAAAAAAAAAAAAAAAAAAAAAAAAAAAAAAAAAAAAAAAAAAAAAAAAAAAAAAAAAAAAAAAAAAAAAAAAAAAAAAAAAAAAAAAAAAAAAAAAAAAAAAAAAAAAAAAAAAAAAAAAAAAAAAAAAAAAAAAAAAAAAAAAAAAAAAAAAAAAAAAAAAAAAAAAAAAAAAAAAAAAAAAAAAAAAAAAAAAAAAAAAAAAAAAAAAAAAAAAAAAAAAAAAAAAAAAAAAAAAAAAAAAAAAAAAAAAAAAAAAAAAAAAAAAAAAAAAAAAAAAAAAAAAAAAAAAAAAAAAAAAAAAAAAAAAAAAAAAAAAAAAAAAAAAAAAAAAAAAAAAAAAAAAAAAAAAAAAAAAAAAAAAAAAAAAAAAAAAAAAAAAAAAAAAAAAAAAAAAAAAAAAAAAAAAAAAAAAAAAAAAAAAAAAAAAAAAAAAAAAAAAAAAAAAAAAAAAAAAAAAAAAAAAAAAAAAAAAAAAAAAAAAAAAAAAAAAAAAAAAAAAAAAAAAAAAAAAAAAAAAAAAAAAAAAAAAAAAAAAAAAAAAAAAAAAAAAAAAAAAAAAAAAAAAAAAAAAAAAAAAAAAAAAAAAAAAAAAAAAAAAAAAAAAAAAAAAAAAAAAAAAAAAAAAAAAAAAAAAAAAAAAAAAAAAAAAAAAAAAAAAAAAAAAAAAAAAAAAAAAAAAAAAAAAAAAAAAAAAAAAAAAAAAAAAAAAAAAAAAAAAAAAAAAAAAAAAAAAAAAAAAAAAAAAAAAAAAAAAAAAAAAAAAAAAAAAAAAAAAAAAAAAAAAAAAAAAAAAAAAAAAAAAAAAAAAAAAAAAAAAAAAAAAAAAAAAAAAAAAAAAAAAAAAAAAAAAAAAAAAAAAAAAAAAAAAAAAAAAAAAAAAAAAAAAAAAAAAAAAAAAAAAAAAAAAAAAAAAAAAAAAAAAAAAAAAAAAAAAAAAAAAAAAAAAAAAAAAAAAAAAAAAAAAAAAAAAAAAAAAAAAAAAAAAAAAAAAAAAAAAAAAAAAAAAAAAAAAAAAAAAAAAAAAAAAAAAAAAAAAAAAAAAAAAAAAAAAAAAAAAAAAAAAAAAAAAAAAAAAAAAAAAAAAAAAAAAAAAAAAAAAAAAAAAAAAAAAAAAAAAAAAAAAAAAAAAAAAAAAAAAAAAAAAAAAAAAAAAAAAAAAAAAAAAAAAAAAAAAAAAAAAAAAAAAAAAAAAAAAAAAAAAAAAAAAAAAAAAAAAAAAAAAAAAAAAAAAAAAAAAAAAAAAAAAAAAAAAAAAAAAAAAAAAAAAAAAAAAAAAAAAAAAAAAAAAAAAAAAAAAAAAAAAAAAAAAAAAAAAAAAAAAAAAAAAAAAAAAAAAAAAAAAAAAAAAAAAAAAAAAAAAAAAAAAAAAAAAAAAAAAAAAAAAAAAAAAAAAAAAAAAAAAAAAAAAAAAAAAAAAAAAAAAAAAAAAAAAAAAAAAA=="
         },
         "x0": " ",
         "xaxis": "x",
         "y": {
          "dtype": "f8",
          "bdata": "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"
         },
         "y0": " ",
         "yaxis": "y",
         "type": "box"
        },
        {
         "alignmentgroup": "True",
         "boxpoints": "all",
         "hovertemplate": "default=%{x}<br>income=%{y}<extra></extra>",
         "legendgroup": "1",
         "marker": {
          "color": "rgb(252,141,98)"
         },
         "name": "1",
         "notched": false,
         "offsetgroup": "1",
         "orientation": "v",
         "showlegend": true,
         "x": {
          "dtype": "i1",
          "bdata": "AQEBAQEBAQEBAQEBAQEBAQEBAQEBAQEBAQEBAQEBAQEBAQEBAQEBAQEBAQEBAQEBAQEBAQEBAQEBAQEBAQEBAQEBAQEBAQEBAQEBAQEBAQEBAQEBAQEBAQEBAQEBAQEBAQEBAQEBAQEBAQEBAQEBAQEBAQEBAQEBAQEBAQEBAQEBAQEBAQEBAQEBAQEBAQEBAQEBAQEBAQEBAQEBAQEBAQEBAQEBAQEBAQEBAQEBAQEBAQEBAQEBAQEBAQEBAQEBAQEBAQEBAQEBAQEBAQEBAQEBAQEBAQEBAQEBAQEBAQEBAQEBAQEBAQEBAQEBAQEBAQEBAQEBAQEBAQEBAQEBAQEBAQEBAQEBAQEBAQEBAQEBAQEBAQEBAQEBAQEBAQEBAQEBAQEBAQEBAQEBAQEBAQEBAQEBAQEBAQEBAQEBAQEBAQEBAQEBAQEBAQEBAQEBAQEBAQEBAQEBAQEBAQEBAQEBAQEBAQEBAQEBAQEBAQEBAQEBAQEBAQEBAQEBAQEBAQEBAQEBAQEBAQEBAQEBAQEBAQEBAQEBAQEBAQEBAQEBAQEBAQEBAQEBAQEBAQEBAQEBAQEBAQEBAQEBAQEBAQEBAQEBAQEBAQEBAQEBAQEBAQEBAQEBAQEBAQEBAQEBAQEBAQEBAQEBAQEBAQEBAQEBAQEBAQEBAQEBAQEBAQEBAQEBAQEBAQEBAQEBAQEBAQEBAQEBAQEBAQEBAQEBAQEBAQEBAQEBAQEBAQEBAQEBAQEBAQEBAQEBAQEBAQEBAQEBAQEBAQEBAQEBAQEBAQEBAQEBAQEBAQEBAQEBAQEBAQEBAQEBAQEBAQEBAQEBAQEBAQEBAQEBAQEBAQEBAQEBAQEBAQEBAQEBAQEBAQEBAQEBAQEBAQEBAQEBAQEBAQEBAQEBAQEBAQEBAQEBAQEBAQEBAQEBAQEBAQEBAQEBAQEBAQEBAQEBAQEBAQEBAQEBAQEBAQEBAQEBAQEBAQEBAQEBAQEBAQEBAQEBAQEBAQEBAQEBAQEBAQEBAQEBAQEBAQEBAQEBAQEBAQEBAQEBAQEBAQEBAQEBAQEBAQEBAQEBAQEBAQEBAQEBAQEBAQEBAQEBAQEBAQEBAQEBAQEBAQEBAQEBAQEBAQEBAQEBAQEBAQEBAQEBAQEBAQEBAQEBAQEBAQEBAQEBAQEBAQEBAQEBAQEBAQEBAQEBAQEBAQEBAQEBAQEBAQEBAQEBAQEBAQEBAQEBAQEBAQEBAQEBAQEBAQEBAQEBAQEBAQEBAQEBAQEBAQEBAQEBAQEBAQEBAQEBAQEBAQEBAQEBAQEBAQEBAQEBAQEBAQEBAQEBAQEBAQEBAQEBAQEBAQEBAQEBAQEBAQEBAQEBAQEBAQEBAQEBAQEBAQEBAQEBAQEBAQEBAQEBAQEBAQEBAQEBAQEBAQEBAQEBAQEBAQEBAQEBAQEBAQEBAQEBAQEBAQEBAQEBAQEBAQEBAQEBAQEBAQEBAQEBAQEBAQEBAQEBAQEBAQEBAQEBAQEBAQEBAQEBAQEBAQEBAQEBAQEBAQEBAQEBAQEBAQEBAQEBAQEBAQEBAQEBAQEBAQEBAQEBAQEBAQEBAQEBAQEBAQEBAQEBAQEBAQEBAQEBAQEBAQEBAQEBAQEBAQEBAQEBAQEBAQEBAQEBAQEBAQEBAQEBAQEBAQEBAQEBAQEBAQEBAQEBAQEBAQEBAQEBAQEBAQEBAQEBAQEBAQEBAQEBAQEBAQEBAQEBAQEBAQEBAQEBAQEBAQEBAQEBAQEBAQEBAQEBAQEBAQEBAQEBAQEBAQEBAQEBAQEBAQEBAQEBAQEBAQEBAQEBAQEBAQEBAQEBAQEBAQEBAQEBAQEBAQEBAQEBAQEBAQEBAQEBAQEBAQEBAQEBAQEBAQEBAQEBAQEBAQEBAQEBAQEBAQEBAQEBAQEBAQEBAQEBAQEBAQEBAQEBAQEBAQEBAQEBAQEBAQEBAQEBAQEBAQEBAQEBAQEBAQEBAQEBAQEBAQEBAQEBAQEBAQEBAQEBAQEBAQEBAQEBAQEBAQEBAQEBAQEBAQEBAQEBAQEBAQEBAQEBAQEBAQEBAQEBAQEBAQEBAQEBAQEBAQEBAQEBAQEBAQEBAQEBAQEBAQEBAQEBAQEBAQEBAQEBAQEBAQEBAQEBAQEBAQEBAQEBAQEBAQEBAQEBAQEBAQEBAQEBAQEBAQEBAQEBAQEBAQEBAQEBAQEBAQEBAQEBAQEBAQEBAQEBAQEBAQEBAQEBAQEBAQEBAQEBAQEBAQEBAQEBAQEBAQEBAQEBAQEBAQEBAQEBAQEBAQEBAQEBAQEBAQEBAQEBAQEBAQEBAQEBAQEBAQEBAQEBAQEBAQEBAQEBAQEBAQEBAQEBAQEBAQEBAQEBAQEBAQEBAQEBAQEBAQEBAQEBAQEBAQEBAQEBAQEBAQEBAQEBAQEBAQEBAQEBAQEBAQEBAQEBAQEBAQEBAQEBAQEBAQEBAQEBAQEB"
         },
         "x0": " ",
         "xaxis": "x",
         "y": {
          "dtype": "f8",
          "bdata": "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"
         },
         "y0": " ",
         "yaxis": "y",
         "type": "box"
        }
       ],
       "layout": {
        "template": {
         "data": {
          "histogram2dcontour": [
           {
            "type": "histogram2dcontour",
            "colorbar": {
             "outlinewidth": 0,
             "ticks": ""
            },
            "colorscale": [
             [
              0.0,
              "#0d0887"
             ],
             [
              0.1111111111111111,
              "#46039f"
             ],
             [
              0.2222222222222222,
              "#7201a8"
             ],
             [
              0.3333333333333333,
              "#9c179e"
             ],
             [
              0.4444444444444444,
              "#bd3786"
             ],
             [
              0.5555555555555556,
              "#d8576b"
             ],
             [
              0.6666666666666666,
              "#ed7953"
             ],
             [
              0.7777777777777778,
              "#fb9f3a"
             ],
             [
              0.8888888888888888,
              "#fdca26"
             ],
             [
              1.0,
              "#f0f921"
             ]
            ]
           }
          ],
          "choropleth": [
           {
            "type": "choropleth",
            "colorbar": {
             "outlinewidth": 0,
             "ticks": ""
            }
           }
          ],
          "histogram2d": [
           {
            "type": "histogram2d",
            "colorbar": {
             "outlinewidth": 0,
             "ticks": ""
            },
            "colorscale": [
             [
              0.0,
              "#0d0887"
             ],
             [
              0.1111111111111111,
              "#46039f"
             ],
             [
              0.2222222222222222,
              "#7201a8"
             ],
             [
              0.3333333333333333,
              "#9c179e"
             ],
             [
              0.4444444444444444,
              "#bd3786"
             ],
             [
              0.5555555555555556,
              "#d8576b"
             ],
             [
              0.6666666666666666,
              "#ed7953"
             ],
             [
              0.7777777777777778,
              "#fb9f3a"
             ],
             [
              0.8888888888888888,
              "#fdca26"
             ],
             [
              1.0,
              "#f0f921"
             ]
            ]
           }
          ],
          "heatmap": [
           {
            "type": "heatmap",
            "colorbar": {
             "outlinewidth": 0,
             "ticks": ""
            },
            "colorscale": [
             [
              0.0,
              "#0d0887"
             ],
             [
              0.1111111111111111,
              "#46039f"
             ],
             [
              0.2222222222222222,
              "#7201a8"
             ],
             [
              0.3333333333333333,
              "#9c179e"
             ],
             [
              0.4444444444444444,
              "#bd3786"
             ],
             [
              0.5555555555555556,
              "#d8576b"
             ],
             [
              0.6666666666666666,
              "#ed7953"
             ],
             [
              0.7777777777777778,
              "#fb9f3a"
             ],
             [
              0.8888888888888888,
              "#fdca26"
             ],
             [
              1.0,
              "#f0f921"
             ]
            ]
           }
          ],
          "contourcarpet": [
           {
            "type": "contourcarpet",
            "colorbar": {
             "outlinewidth": 0,
             "ticks": ""
            }
           }
          ],
          "contour": [
           {
            "type": "contour",
            "colorbar": {
             "outlinewidth": 0,
             "ticks": ""
            },
            "colorscale": [
             [
              0.0,
              "#0d0887"
             ],
             [
              0.1111111111111111,
              "#46039f"
             ],
             [
              0.2222222222222222,
              "#7201a8"
             ],
             [
              0.3333333333333333,
              "#9c179e"
             ],
             [
              0.4444444444444444,
              "#bd3786"
             ],
             [
              0.5555555555555556,
              "#d8576b"
             ],
             [
              0.6666666666666666,
              "#ed7953"
             ],
             [
              0.7777777777777778,
              "#fb9f3a"
             ],
             [
              0.8888888888888888,
              "#fdca26"
             ],
             [
              1.0,
              "#f0f921"
             ]
            ]
           }
          ],
          "surface": [
           {
            "type": "surface",
            "colorbar": {
             "outlinewidth": 0,
             "ticks": ""
            },
            "colorscale": [
             [
              0.0,
              "#0d0887"
             ],
             [
              0.1111111111111111,
              "#46039f"
             ],
             [
              0.2222222222222222,
              "#7201a8"
             ],
             [
              0.3333333333333333,
              "#9c179e"
             ],
             [
              0.4444444444444444,
              "#bd3786"
             ],
             [
              0.5555555555555556,
              "#d8576b"
             ],
             [
              0.6666666666666666,
              "#ed7953"
             ],
             [
              0.7777777777777778,
              "#fb9f3a"
             ],
             [
              0.8888888888888888,
              "#fdca26"
             ],
             [
              1.0,
              "#f0f921"
             ]
            ]
           }
          ],
          "mesh3d": [
           {
            "type": "mesh3d",
            "colorbar": {
             "outlinewidth": 0,
             "ticks": ""
            }
           }
          ],
          "scatter": [
           {
            "fillpattern": {
             "fillmode": "overlay",
             "size": 10,
             "solidity": 0.2
            },
            "type": "scatter"
           }
          ],
          "parcoords": [
           {
            "type": "parcoords",
            "line": {
             "colorbar": {
              "outlinewidth": 0,
              "ticks": ""
             }
            }
           }
          ],
          "scatterpolargl": [
           {
            "type": "scatterpolargl",
            "marker": {
             "colorbar": {
              "outlinewidth": 0,
              "ticks": ""
             }
            }
           }
          ],
          "bar": [
           {
            "error_x": {
             "color": "#2a3f5f"
            },
            "error_y": {
             "color": "#2a3f5f"
            },
            "marker": {
             "line": {
              "color": "#E5ECF6",
              "width": 0.5
             },
             "pattern": {
              "fillmode": "overlay",
              "size": 10,
              "solidity": 0.2
             }
            },
            "type": "bar"
           }
          ],
          "scattergeo": [
           {
            "type": "scattergeo",
            "marker": {
             "colorbar": {
              "outlinewidth": 0,
              "ticks": ""
             }
            }
           }
          ],
          "scatterpolar": [
           {
            "type": "scatterpolar",
            "marker": {
             "colorbar": {
              "outlinewidth": 0,
              "ticks": ""
             }
            }
           }
          ],
          "histogram": [
           {
            "marker": {
             "pattern": {
              "fillmode": "overlay",
              "size": 10,
              "solidity": 0.2
             }
            },
            "type": "histogram"
           }
          ],
          "scattergl": [
           {
            "type": "scattergl",
            "marker": {
             "colorbar": {
              "outlinewidth": 0,
              "ticks": ""
             }
            }
           }
          ],
          "scatter3d": [
           {
            "type": "scatter3d",
            "line": {
             "colorbar": {
              "outlinewidth": 0,
              "ticks": ""
             }
            },
            "marker": {
             "colorbar": {
              "outlinewidth": 0,
              "ticks": ""
             }
            }
           }
          ],
          "scattermap": [
           {
            "type": "scattermap",
            "marker": {
             "colorbar": {
              "outlinewidth": 0,
              "ticks": ""
             }
            }
           }
          ],
          "scattermapbox": [
           {
            "type": "scattermapbox",
            "marker": {
             "colorbar": {
              "outlinewidth": 0,
              "ticks": ""
             }
            }
           }
          ],
          "scatterternary": [
           {
            "type": "scatterternary",
            "marker": {
             "colorbar": {
              "outlinewidth": 0,
              "ticks": ""
             }
            }
           }
          ],
          "scattercarpet": [
           {
            "type": "scattercarpet",
            "marker": {
             "colorbar": {
              "outlinewidth": 0,
              "ticks": ""
             }
            }
           }
          ],
          "carpet": [
           {
            "aaxis": {
             "endlinecolor": "#2a3f5f",
             "gridcolor": "white",
             "linecolor": "white",
             "minorgridcolor": "white",
             "startlinecolor": "#2a3f5f"
            },
            "baxis": {
             "endlinecolor": "#2a3f5f",
             "gridcolor": "white",
             "linecolor": "white",
             "minorgridcolor": "white",
             "startlinecolor": "#2a3f5f"
            },
            "type": "carpet"
           }
          ],
          "table": [
           {
            "cells": {
             "fill": {
              "color": "#EBF0F8"
             },
             "line": {
              "color": "white"
             }
            },
            "header": {
             "fill": {
              "color": "#C8D4E3"
             },
             "line": {
              "color": "white"
             }
            },
            "type": "table"
           }
          ],
          "barpolar": [
           {
            "marker": {
             "line": {
              "color": "#E5ECF6",
              "width": 0.5
             },
             "pattern": {
              "fillmode": "overlay",
              "size": 10,
              "solidity": 0.2
             }
            },
            "type": "barpolar"
           }
          ],
          "pie": [
           {
            "automargin": true,
            "type": "pie"
           }
          ]
         },
         "layout": {
          "autotypenumbers": "strict",
          "colorway": [
           "#636efa",
           "#EF553B",
           "#00cc96",
           "#ab63fa",
           "#FFA15A",
           "#19d3f3",
           "#FF6692",
           "#B6E880",
           "#FF97FF",
           "#FECB52"
          ],
          "font": {
           "color": "#2a3f5f"
          },
          "hovermode": "closest",
          "hoverlabel": {
           "align": "left"
          },
          "paper_bgcolor": "white",
          "plot_bgcolor": "#E5ECF6",
          "polar": {
           "bgcolor": "#E5ECF6",
           "angularaxis": {
            "gridcolor": "white",
            "linecolor": "white",
            "ticks": ""
           },
           "radialaxis": {
            "gridcolor": "white",
            "linecolor": "white",
            "ticks": ""
           }
          },
          "ternary": {
           "bgcolor": "#E5ECF6",
           "aaxis": {
            "gridcolor": "white",
            "linecolor": "white",
            "ticks": ""
           },
           "baxis": {
            "gridcolor": "white",
            "linecolor": "white",
            "ticks": ""
           },
           "caxis": {
            "gridcolor": "white",
            "linecolor": "white",
            "ticks": ""
           }
          },
          "coloraxis": {
           "colorbar": {
            "outlinewidth": 0,
            "ticks": ""
           }
          },
          "colorscale": {
           "sequential": [
            [
             0.0,
             "#0d0887"
            ],
            [
             0.1111111111111111,
             "#46039f"
            ],
            [
             0.2222222222222222,
             "#7201a8"
            ],
            [
             0.3333333333333333,
             "#9c179e"
            ],
            [
             0.4444444444444444,
             "#bd3786"
            ],
            [
             0.5555555555555556,
             "#d8576b"
            ],
            [
             0.6666666666666666,
             "#ed7953"
            ],
            [
             0.7777777777777778,
             "#fb9f3a"
            ],
            [
             0.8888888888888888,
             "#fdca26"
            ],
            [
             1.0,
             "#f0f921"
            ]
           ],
           "sequentialminus": [
            [
             0.0,
             "#0d0887"
            ],
            [
             0.1111111111111111,
             "#46039f"
            ],
            [
             0.2222222222222222,
             "#7201a8"
            ],
            [
             0.3333333333333333,
             "#9c179e"
            ],
            [
             0.4444444444444444,
             "#bd3786"
            ],
            [
             0.5555555555555556,
             "#d8576b"
            ],
            [
             0.6666666666666666,
             "#ed7953"
            ],
            [
             0.7777777777777778,
             "#fb9f3a"
            ],
            [
             0.8888888888888888,
             "#fdca26"
            ],
            [
             1.0,
             "#f0f921"
            ]
           ],
           "diverging": [
            [
             0,
             "#8e0152"
            ],
            [
             0.1,
             "#c51b7d"
            ],
            [
             0.2,
             "#de77ae"
            ],
            [
             0.3,
             "#f1b6da"
            ],
            [
             0.4,
             "#fde0ef"
            ],
            [
             0.5,
             "#f7f7f7"
            ],
            [
             0.6,
             "#e6f5d0"
            ],
            [
             0.7,
             "#b8e186"
            ],
            [
             0.8,
             "#7fbc41"
            ],
            [
             0.9,
             "#4d9221"
            ],
            [
             1,
             "#276419"
            ]
           ]
          },
          "xaxis": {
           "gridcolor": "white",
           "linecolor": "white",
           "ticks": "",
           "title": {
            "standoff": 15
           },
           "zerolinecolor": "white",
           "automargin": true,
           "zerolinewidth": 2
          },
          "yaxis": {
           "gridcolor": "white",
           "linecolor": "white",
           "ticks": "",
           "title": {
            "standoff": 15
           },
           "zerolinecolor": "white",
           "automargin": true,
           "zerolinewidth": 2
          },
          "scene": {
           "xaxis": {
            "backgroundcolor": "#E5ECF6",
            "gridcolor": "white",
            "linecolor": "white",
            "showbackground": true,
            "ticks": "",
            "zerolinecolor": "white",
            "gridwidth": 2
           },
           "yaxis": {
            "backgroundcolor": "#E5ECF6",
            "gridcolor": "white",
            "linecolor": "white",
            "showbackground": true,
            "ticks": "",
            "zerolinecolor": "white",
            "gridwidth": 2
           },
           "zaxis": {
            "backgroundcolor": "#E5ECF6",
            "gridcolor": "white",
            "linecolor": "white",
            "showbackground": true,
            "ticks": "",
            "zerolinecolor": "white",
            "gridwidth": 2
           }
          },
          "shapedefaults": {
           "line": {
            "color": "#2a3f5f"
           }
          },
          "annotationdefaults": {
           "arrowcolor": "#2a3f5f",
           "arrowhead": 0,
           "arrowwidth": 1
          },
          "geo": {
           "bgcolor": "white",
           "landcolor": "#E5ECF6",
           "subunitcolor": "white",
           "showland": true,
           "showlakes": true,
           "lakecolor": "white"
          },
          "title": {
           "x": 0.05
          },
          "mapbox": {
           "style": "light"
          }
         }
        },
        "xaxis": {
         "anchor": "y",
         "domain": [
          0.0,
          1.0
         ],
         "title": {
          "text": "default"
         },
         "categoryorder": "array",
         "categoryarray": [
          0,
          1
         ]
        },
        "yaxis": {
         "anchor": "x",
         "domain": [
          0.0,
          1.0
         ],
         "title": {
          "text": "income"
         }
        },
        "legend": {
         "title": {
          "text": "default"
         },
         "tracegroupgap": 0
        },
        "title": {
         "text": "income vs default"
        },
        "boxmode": "overlay"
       },
       "config": {
        "plotlyServerURL": "https://plot.ly"
       }
      }
     },
     "metadata": {},
     "output_type": "display_data"
    }
   ],
   "execution_count": 14
  },
  {
   "metadata": {},
   "cell_type": "markdown",
   "source": "Matrice de corrélation interactive",
   "id": "862afd95e083e23f"
  },
  {
   "metadata": {
    "ExecuteTime": {
     "end_time": "2025-10-14T13:50:24.563084Z",
     "start_time": "2025-10-14T13:50:24.519275Z"
    }
   },
   "cell_type": "code",
   "source": [
    "numeric_cols = data.select_dtypes(include=np.number).columns.tolist()\n",
    "exclude_cols = ['customer_id']\n",
    "numeric_cols = [col for col in numeric_cols if col not in exclude_cols]\n",
    "\n",
    "if 'default' not in numeric_cols:\n",
    "    numeric_cols.append('default')\n",
    "\n",
    "corr = data[numeric_cols].corr()\n",
    "z_text = np.round(corr.values, 2)\n",
    "\n",
    "fig = ff.create_annotated_heatmap(\n",
    "    z=corr.values,\n",
    "    x=list(corr.columns),\n",
    "    y=list(corr.columns),\n",
    "    annotation_text=z_text,\n",
    "    colorscale=\"Cividis\",\n",
    "    zmin=-1, zmax=1,\n",
    "    showscale=True\n",
    ")\n",
    "\n",
    "fig.update_layout(\n",
    "    title={\n",
    "        'text': \"Matrice de corrélation \",\n",
    "        'y':0.95,\n",
    "        'x':0.5,\n",
    "        'xanchor':'center',\n",
    "        'yanchor':'top'\n",
    "    },\n",
    "    width=800,\n",
    "    height=600\n",
    ")\n",
    "fig.update_xaxes(tickangle=45, tickfont=dict(size=10))\n",
    "fig.update_yaxes(tickangle=0, tickfont=dict(size=10))\n",
    "fig.show()"
   ],
   "id": "95347f6e7c051134",
   "outputs": [
    {
     "data": {
      "application/vnd.plotly.v1+json": {
       "data": [
        {
         "colorscale": [
          [
           0.0,
           "#00224e"
          ],
          [
           0.1111111111111111,
           "#123570"
          ],
          [
           0.2222222222222222,
           "#3b496c"
          ],
          [
           0.3333333333333333,
           "#575d6d"
          ],
          [
           0.4444444444444444,
           "#707173"
          ],
          [
           0.5555555555555556,
           "#8a8678"
          ],
          [
           0.6666666666666666,
           "#a59c74"
          ],
          [
           0.7777777777777778,
           "#c3b369"
          ],
          [
           0.8888888888888888,
           "#e1cc55"
          ],
          [
           1.0,
           "#fee838"
          ]
         ],
         "reversescale": false,
         "showscale": true,
         "x": [
          "credit_lines_outstanding",
          "loan_amt_outstanding",
          "total_debt_outstanding",
          "income",
          "years_employed",
          "fico_score",
          "default"
         ],
         "y": [
          "credit_lines_outstanding",
          "loan_amt_outstanding",
          "total_debt_outstanding",
          "income",
          "years_employed",
          "fico_score",
          "default"
         ],
         "z": {
          "dtype": "f8",
          "bdata": "AAAAAAAA8D8c2T/QMYu0P+NlIs1NRes/b33Ai5LOlj8Qrf94n4C2vzO6TzL4hdC/cZkevC6c6z8c2T/QMYu0PwAAAAAAAPA/NhqUYg5v2T+MEmO6/77qP/GACej4RsS/ooMbhRYQoL/wPLRYpla5P+NlIs1NRes/NhqUYg5v2T8AAAAAAADwP+28nlTMPdk/axYHjzVRxr/2xrj2PLrNv9qSfdCkSOg/b33Ai5LOlj+MEmO6/77qP+28nlTMPdk/AAAAAAAA8D/xz7FLirddP8I1aFjBj4W/kj+j5VqzkD8Qrf94n4C2v/GACej4RsS/axYHjzVRxr/xz7FLirddPwAAAAAAAPA/yVt5Qjlg0D9NI0tkVzXSvzO6TzL4hdC/ooMbhRYQoL/2xrj2PLrNv8I1aFjBj4W/yVt5Qjlg0D8AAAAAAADwP/QAGpLcxNS/cZkevC6c6z/wPLRYpla5P9qSfdCkSOg/kj+j5VqzkD9NI0tkVzXSv/QAGpLcxNS/AAAAAAAA8D8=",
          "shape": "7, 7"
         },
         "zmax": 1,
         "zmin": -1,
         "type": "heatmap"
        }
       ],
       "layout": {
        "annotations": [
         {
          "font": {
           "color": "#000000"
          },
          "showarrow": false,
          "text": "1.0",
          "x": "credit_lines_outstanding",
          "xref": "x",
          "y": "credit_lines_outstanding",
          "yref": "y"
         },
         {
          "font": {
           "color": "#000000"
          },
          "showarrow": false,
          "text": "0.08",
          "x": "loan_amt_outstanding",
          "xref": "x",
          "y": "credit_lines_outstanding",
          "yref": "y"
         },
         {
          "font": {
           "color": "#000000"
          },
          "showarrow": false,
          "text": "0.85",
          "x": "total_debt_outstanding",
          "xref": "x",
          "y": "credit_lines_outstanding",
          "yref": "y"
         },
         {
          "font": {
           "color": "#000000"
          },
          "showarrow": false,
          "text": "0.02",
          "x": "income",
          "xref": "x",
          "y": "credit_lines_outstanding",
          "yref": "y"
         },
         {
          "font": {
           "color": "#FFFFFF"
          },
          "showarrow": false,
          "text": "-0.09",
          "x": "years_employed",
          "xref": "x",
          "y": "credit_lines_outstanding",
          "yref": "y"
         },
         {
          "font": {
           "color": "#FFFFFF"
          },
          "showarrow": false,
          "text": "-0.26",
          "x": "fico_score",
          "xref": "x",
          "y": "credit_lines_outstanding",
          "yref": "y"
         },
         {
          "font": {
           "color": "#000000"
          },
          "showarrow": false,
          "text": "0.86",
          "x": "default",
          "xref": "x",
          "y": "credit_lines_outstanding",
          "yref": "y"
         },
         {
          "font": {
           "color": "#000000"
          },
          "showarrow": false,
          "text": "0.08",
          "x": "credit_lines_outstanding",
          "xref": "x",
          "y": "loan_amt_outstanding",
          "yref": "y"
         },
         {
          "font": {
           "color": "#000000"
          },
          "showarrow": false,
          "text": "1.0",
          "x": "loan_amt_outstanding",
          "xref": "x",
          "y": "loan_amt_outstanding",
          "yref": "y"
         },
         {
          "font": {
           "color": "#000000"
          },
          "showarrow": false,
          "text": "0.4",
          "x": "total_debt_outstanding",
          "xref": "x",
          "y": "loan_amt_outstanding",
          "yref": "y"
         },
         {
          "font": {
           "color": "#000000"
          },
          "showarrow": false,
          "text": "0.84",
          "x": "income",
          "xref": "x",
          "y": "loan_amt_outstanding",
          "yref": "y"
         },
         {
          "font": {
           "color": "#FFFFFF"
          },
          "showarrow": false,
          "text": "-0.16",
          "x": "years_employed",
          "xref": "x",
          "y": "loan_amt_outstanding",
          "yref": "y"
         },
         {
          "font": {
           "color": "#FFFFFF"
          },
          "showarrow": false,
          "text": "-0.03",
          "x": "fico_score",
          "xref": "x",
          "y": "loan_amt_outstanding",
          "yref": "y"
         },
         {
          "font": {
           "color": "#000000"
          },
          "showarrow": false,
          "text": "0.1",
          "x": "default",
          "xref": "x",
          "y": "loan_amt_outstanding",
          "yref": "y"
         },
         {
          "font": {
           "color": "#000000"
          },
          "showarrow": false,
          "text": "0.85",
          "x": "credit_lines_outstanding",
          "xref": "x",
          "y": "total_debt_outstanding",
          "yref": "y"
         },
         {
          "font": {
           "color": "#000000"
          },
          "showarrow": false,
          "text": "0.4",
          "x": "loan_amt_outstanding",
          "xref": "x",
          "y": "total_debt_outstanding",
          "yref": "y"
         },
         {
          "font": {
           "color": "#000000"
          },
          "showarrow": false,
          "text": "1.0",
          "x": "total_debt_outstanding",
          "xref": "x",
          "y": "total_debt_outstanding",
          "yref": "y"
         },
         {
          "font": {
           "color": "#000000"
          },
          "showarrow": false,
          "text": "0.39",
          "x": "income",
          "xref": "x",
          "y": "total_debt_outstanding",
          "yref": "y"
         },
         {
          "font": {
           "color": "#FFFFFF"
          },
          "showarrow": false,
          "text": "-0.17",
          "x": "years_employed",
          "xref": "x",
          "y": "total_debt_outstanding",
          "yref": "y"
         },
         {
          "font": {
           "color": "#FFFFFF"
          },
          "showarrow": false,
          "text": "-0.23",
          "x": "fico_score",
          "xref": "x",
          "y": "total_debt_outstanding",
          "yref": "y"
         },
         {
          "font": {
           "color": "#000000"
          },
          "showarrow": false,
          "text": "0.76",
          "x": "default",
          "xref": "x",
          "y": "total_debt_outstanding",
          "yref": "y"
         },
         {
          "font": {
           "color": "#000000"
          },
          "showarrow": false,
          "text": "0.02",
          "x": "credit_lines_outstanding",
          "xref": "x",
          "y": "income",
          "yref": "y"
         },
         {
          "font": {
           "color": "#000000"
          },
          "showarrow": false,
          "text": "0.84",
          "x": "loan_amt_outstanding",
          "xref": "x",
          "y": "income",
          "yref": "y"
         },
         {
          "font": {
           "color": "#000000"
          },
          "showarrow": false,
          "text": "0.39",
          "x": "total_debt_outstanding",
          "xref": "x",
          "y": "income",
          "yref": "y"
         },
         {
          "font": {
           "color": "#000000"
          },
          "showarrow": false,
          "text": "1.0",
          "x": "income",
          "xref": "x",
          "y": "income",
          "yref": "y"
         },
         {
          "font": {
           "color": "#000000"
          },
          "showarrow": false,
          "text": "0.0",
          "x": "years_employed",
          "xref": "x",
          "y": "income",
          "yref": "y"
         },
         {
          "font": {
           "color": "#FFFFFF"
          },
          "showarrow": false,
          "text": "-0.01",
          "x": "fico_score",
          "xref": "x",
          "y": "income",
          "yref": "y"
         },
         {
          "font": {
           "color": "#000000"
          },
          "showarrow": false,
          "text": "0.02",
          "x": "default",
          "xref": "x",
          "y": "income",
          "yref": "y"
         },
         {
          "font": {
           "color": "#FFFFFF"
          },
          "showarrow": false,
          "text": "-0.09",
          "x": "credit_lines_outstanding",
          "xref": "x",
          "y": "years_employed",
          "yref": "y"
         },
         {
          "font": {
           "color": "#FFFFFF"
          },
          "showarrow": false,
          "text": "-0.16",
          "x": "loan_amt_outstanding",
          "xref": "x",
          "y": "years_employed",
          "yref": "y"
         },
         {
          "font": {
           "color": "#FFFFFF"
          },
          "showarrow": false,
          "text": "-0.17",
          "x": "total_debt_outstanding",
          "xref": "x",
          "y": "years_employed",
          "yref": "y"
         },
         {
          "font": {
           "color": "#000000"
          },
          "showarrow": false,
          "text": "0.0",
          "x": "income",
          "xref": "x",
          "y": "years_employed",
          "yref": "y"
         },
         {
          "font": {
           "color": "#000000"
          },
          "showarrow": false,
          "text": "1.0",
          "x": "years_employed",
          "xref": "x",
          "y": "years_employed",
          "yref": "y"
         },
         {
          "font": {
           "color": "#000000"
          },
          "showarrow": false,
          "text": "0.26",
          "x": "fico_score",
          "xref": "x",
          "y": "years_employed",
          "yref": "y"
         },
         {
          "font": {
           "color": "#FFFFFF"
          },
          "showarrow": false,
          "text": "-0.28",
          "x": "default",
          "xref": "x",
          "y": "years_employed",
          "yref": "y"
         },
         {
          "font": {
           "color": "#FFFFFF"
          },
          "showarrow": false,
          "text": "-0.26",
          "x": "credit_lines_outstanding",
          "xref": "x",
          "y": "fico_score",
          "yref": "y"
         },
         {
          "font": {
           "color": "#FFFFFF"
          },
          "showarrow": false,
          "text": "-0.03",
          "x": "loan_amt_outstanding",
          "xref": "x",
          "y": "fico_score",
          "yref": "y"
         },
         {
          "font": {
           "color": "#FFFFFF"
          },
          "showarrow": false,
          "text": "-0.23",
          "x": "total_debt_outstanding",
          "xref": "x",
          "y": "fico_score",
          "yref": "y"
         },
         {
          "font": {
           "color": "#FFFFFF"
          },
          "showarrow": false,
          "text": "-0.01",
          "x": "income",
          "xref": "x",
          "y": "fico_score",
          "yref": "y"
         },
         {
          "font": {
           "color": "#000000"
          },
          "showarrow": false,
          "text": "0.26",
          "x": "years_employed",
          "xref": "x",
          "y": "fico_score",
          "yref": "y"
         },
         {
          "font": {
           "color": "#000000"
          },
          "showarrow": false,
          "text": "1.0",
          "x": "fico_score",
          "xref": "x",
          "y": "fico_score",
          "yref": "y"
         },
         {
          "font": {
           "color": "#FFFFFF"
          },
          "showarrow": false,
          "text": "-0.32",
          "x": "default",
          "xref": "x",
          "y": "fico_score",
          "yref": "y"
         },
         {
          "font": {
           "color": "#000000"
          },
          "showarrow": false,
          "text": "0.86",
          "x": "credit_lines_outstanding",
          "xref": "x",
          "y": "default",
          "yref": "y"
         },
         {
          "font": {
           "color": "#000000"
          },
          "showarrow": false,
          "text": "0.1",
          "x": "loan_amt_outstanding",
          "xref": "x",
          "y": "default",
          "yref": "y"
         },
         {
          "font": {
           "color": "#000000"
          },
          "showarrow": false,
          "text": "0.76",
          "x": "total_debt_outstanding",
          "xref": "x",
          "y": "default",
          "yref": "y"
         },
         {
          "font": {
           "color": "#000000"
          },
          "showarrow": false,
          "text": "0.02",
          "x": "income",
          "xref": "x",
          "y": "default",
          "yref": "y"
         },
         {
          "font": {
           "color": "#FFFFFF"
          },
          "showarrow": false,
          "text": "-0.28",
          "x": "years_employed",
          "xref": "x",
          "y": "default",
          "yref": "y"
         },
         {
          "font": {
           "color": "#FFFFFF"
          },
          "showarrow": false,
          "text": "-0.32",
          "x": "fico_score",
          "xref": "x",
          "y": "default",
          "yref": "y"
         },
         {
          "font": {
           "color": "#000000"
          },
          "showarrow": false,
          "text": "1.0",
          "x": "default",
          "xref": "x",
          "y": "default",
          "yref": "y"
         }
        ],
        "xaxis": {
         "dtick": 1,
         "gridcolor": "rgb(0, 0, 0)",
         "side": "top",
         "ticks": "",
         "tickfont": {
          "size": 10
         },
         "tickangle": 45
        },
        "yaxis": {
         "dtick": 1,
         "ticks": "",
         "ticksuffix": "  ",
         "tickfont": {
          "size": 10
         },
         "tickangle": 0
        },
        "template": {
         "data": {
          "histogram2dcontour": [
           {
            "type": "histogram2dcontour",
            "colorbar": {
             "outlinewidth": 0,
             "ticks": ""
            },
            "colorscale": [
             [
              0.0,
              "#0d0887"
             ],
             [
              0.1111111111111111,
              "#46039f"
             ],
             [
              0.2222222222222222,
              "#7201a8"
             ],
             [
              0.3333333333333333,
              "#9c179e"
             ],
             [
              0.4444444444444444,
              "#bd3786"
             ],
             [
              0.5555555555555556,
              "#d8576b"
             ],
             [
              0.6666666666666666,
              "#ed7953"
             ],
             [
              0.7777777777777778,
              "#fb9f3a"
             ],
             [
              0.8888888888888888,
              "#fdca26"
             ],
             [
              1.0,
              "#f0f921"
             ]
            ]
           }
          ],
          "choropleth": [
           {
            "type": "choropleth",
            "colorbar": {
             "outlinewidth": 0,
             "ticks": ""
            }
           }
          ],
          "histogram2d": [
           {
            "type": "histogram2d",
            "colorbar": {
             "outlinewidth": 0,
             "ticks": ""
            },
            "colorscale": [
             [
              0.0,
              "#0d0887"
             ],
             [
              0.1111111111111111,
              "#46039f"
             ],
             [
              0.2222222222222222,
              "#7201a8"
             ],
             [
              0.3333333333333333,
              "#9c179e"
             ],
             [
              0.4444444444444444,
              "#bd3786"
             ],
             [
              0.5555555555555556,
              "#d8576b"
             ],
             [
              0.6666666666666666,
              "#ed7953"
             ],
             [
              0.7777777777777778,
              "#fb9f3a"
             ],
             [
              0.8888888888888888,
              "#fdca26"
             ],
             [
              1.0,
              "#f0f921"
             ]
            ]
           }
          ],
          "heatmap": [
           {
            "type": "heatmap",
            "colorbar": {
             "outlinewidth": 0,
             "ticks": ""
            },
            "colorscale": [
             [
              0.0,
              "#0d0887"
             ],
             [
              0.1111111111111111,
              "#46039f"
             ],
             [
              0.2222222222222222,
              "#7201a8"
             ],
             [
              0.3333333333333333,
              "#9c179e"
             ],
             [
              0.4444444444444444,
              "#bd3786"
             ],
             [
              0.5555555555555556,
              "#d8576b"
             ],
             [
              0.6666666666666666,
              "#ed7953"
             ],
             [
              0.7777777777777778,
              "#fb9f3a"
             ],
             [
              0.8888888888888888,
              "#fdca26"
             ],
             [
              1.0,
              "#f0f921"
             ]
            ]
           }
          ],
          "contourcarpet": [
           {
            "type": "contourcarpet",
            "colorbar": {
             "outlinewidth": 0,
             "ticks": ""
            }
           }
          ],
          "contour": [
           {
            "type": "contour",
            "colorbar": {
             "outlinewidth": 0,
             "ticks": ""
            },
            "colorscale": [
             [
              0.0,
              "#0d0887"
             ],
             [
              0.1111111111111111,
              "#46039f"
             ],
             [
              0.2222222222222222,
              "#7201a8"
             ],
             [
              0.3333333333333333,
              "#9c179e"
             ],
             [
              0.4444444444444444,
              "#bd3786"
             ],
             [
              0.5555555555555556,
              "#d8576b"
             ],
             [
              0.6666666666666666,
              "#ed7953"
             ],
             [
              0.7777777777777778,
              "#fb9f3a"
             ],
             [
              0.8888888888888888,
              "#fdca26"
             ],
             [
              1.0,
              "#f0f921"
             ]
            ]
           }
          ],
          "surface": [
           {
            "type": "surface",
            "colorbar": {
             "outlinewidth": 0,
             "ticks": ""
            },
            "colorscale": [
             [
              0.0,
              "#0d0887"
             ],
             [
              0.1111111111111111,
              "#46039f"
             ],
             [
              0.2222222222222222,
              "#7201a8"
             ],
             [
              0.3333333333333333,
              "#9c179e"
             ],
             [
              0.4444444444444444,
              "#bd3786"
             ],
             [
              0.5555555555555556,
              "#d8576b"
             ],
             [
              0.6666666666666666,
              "#ed7953"
             ],
             [
              0.7777777777777778,
              "#fb9f3a"
             ],
             [
              0.8888888888888888,
              "#fdca26"
             ],
             [
              1.0,
              "#f0f921"
             ]
            ]
           }
          ],
          "mesh3d": [
           {
            "type": "mesh3d",
            "colorbar": {
             "outlinewidth": 0,
             "ticks": ""
            }
           }
          ],
          "scatter": [
           {
            "fillpattern": {
             "fillmode": "overlay",
             "size": 10,
             "solidity": 0.2
            },
            "type": "scatter"
           }
          ],
          "parcoords": [
           {
            "type": "parcoords",
            "line": {
             "colorbar": {
              "outlinewidth": 0,
              "ticks": ""
             }
            }
           }
          ],
          "scatterpolargl": [
           {
            "type": "scatterpolargl",
            "marker": {
             "colorbar": {
              "outlinewidth": 0,
              "ticks": ""
             }
            }
           }
          ],
          "bar": [
           {
            "error_x": {
             "color": "#2a3f5f"
            },
            "error_y": {
             "color": "#2a3f5f"
            },
            "marker": {
             "line": {
              "color": "#E5ECF6",
              "width": 0.5
             },
             "pattern": {
              "fillmode": "overlay",
              "size": 10,
              "solidity": 0.2
             }
            },
            "type": "bar"
           }
          ],
          "scattergeo": [
           {
            "type": "scattergeo",
            "marker": {
             "colorbar": {
              "outlinewidth": 0,
              "ticks": ""
             }
            }
           }
          ],
          "scatterpolar": [
           {
            "type": "scatterpolar",
            "marker": {
             "colorbar": {
              "outlinewidth": 0,
              "ticks": ""
             }
            }
           }
          ],
          "histogram": [
           {
            "marker": {
             "pattern": {
              "fillmode": "overlay",
              "size": 10,
              "solidity": 0.2
             }
            },
            "type": "histogram"
           }
          ],
          "scattergl": [
           {
            "type": "scattergl",
            "marker": {
             "colorbar": {
              "outlinewidth": 0,
              "ticks": ""
             }
            }
           }
          ],
          "scatter3d": [
           {
            "type": "scatter3d",
            "line": {
             "colorbar": {
              "outlinewidth": 0,
              "ticks": ""
             }
            },
            "marker": {
             "colorbar": {
              "outlinewidth": 0,
              "ticks": ""
             }
            }
           }
          ],
          "scattermap": [
           {
            "type": "scattermap",
            "marker": {
             "colorbar": {
              "outlinewidth": 0,
              "ticks": ""
             }
            }
           }
          ],
          "scattermapbox": [
           {
            "type": "scattermapbox",
            "marker": {
             "colorbar": {
              "outlinewidth": 0,
              "ticks": ""
             }
            }
           }
          ],
          "scatterternary": [
           {
            "type": "scatterternary",
            "marker": {
             "colorbar": {
              "outlinewidth": 0,
              "ticks": ""
             }
            }
           }
          ],
          "scattercarpet": [
           {
            "type": "scattercarpet",
            "marker": {
             "colorbar": {
              "outlinewidth": 0,
              "ticks": ""
             }
            }
           }
          ],
          "carpet": [
           {
            "aaxis": {
             "endlinecolor": "#2a3f5f",
             "gridcolor": "white",
             "linecolor": "white",
             "minorgridcolor": "white",
             "startlinecolor": "#2a3f5f"
            },
            "baxis": {
             "endlinecolor": "#2a3f5f",
             "gridcolor": "white",
             "linecolor": "white",
             "minorgridcolor": "white",
             "startlinecolor": "#2a3f5f"
            },
            "type": "carpet"
           }
          ],
          "table": [
           {
            "cells": {
             "fill": {
              "color": "#EBF0F8"
             },
             "line": {
              "color": "white"
             }
            },
            "header": {
             "fill": {
              "color": "#C8D4E3"
             },
             "line": {
              "color": "white"
             }
            },
            "type": "table"
           }
          ],
          "barpolar": [
           {
            "marker": {
             "line": {
              "color": "#E5ECF6",
              "width": 0.5
             },
             "pattern": {
              "fillmode": "overlay",
              "size": 10,
              "solidity": 0.2
             }
            },
            "type": "barpolar"
           }
          ],
          "pie": [
           {
            "automargin": true,
            "type": "pie"
           }
          ]
         },
         "layout": {
          "autotypenumbers": "strict",
          "colorway": [
           "#636efa",
           "#EF553B",
           "#00cc96",
           "#ab63fa",
           "#FFA15A",
           "#19d3f3",
           "#FF6692",
           "#B6E880",
           "#FF97FF",
           "#FECB52"
          ],
          "font": {
           "color": "#2a3f5f"
          },
          "hovermode": "closest",
          "hoverlabel": {
           "align": "left"
          },
          "paper_bgcolor": "white",
          "plot_bgcolor": "#E5ECF6",
          "polar": {
           "bgcolor": "#E5ECF6",
           "angularaxis": {
            "gridcolor": "white",
            "linecolor": "white",
            "ticks": ""
           },
           "radialaxis": {
            "gridcolor": "white",
            "linecolor": "white",
            "ticks": ""
           }
          },
          "ternary": {
           "bgcolor": "#E5ECF6",
           "aaxis": {
            "gridcolor": "white",
            "linecolor": "white",
            "ticks": ""
           },
           "baxis": {
            "gridcolor": "white",
            "linecolor": "white",
            "ticks": ""
           },
           "caxis": {
            "gridcolor": "white",
            "linecolor": "white",
            "ticks": ""
           }
          },
          "coloraxis": {
           "colorbar": {
            "outlinewidth": 0,
            "ticks": ""
           }
          },
          "colorscale": {
           "sequential": [
            [
             0.0,
             "#0d0887"
            ],
            [
             0.1111111111111111,
             "#46039f"
            ],
            [
             0.2222222222222222,
             "#7201a8"
            ],
            [
             0.3333333333333333,
             "#9c179e"
            ],
            [
             0.4444444444444444,
             "#bd3786"
            ],
            [
             0.5555555555555556,
             "#d8576b"
            ],
            [
             0.6666666666666666,
             "#ed7953"
            ],
            [
             0.7777777777777778,
             "#fb9f3a"
            ],
            [
             0.8888888888888888,
             "#fdca26"
            ],
            [
             1.0,
             "#f0f921"
            ]
           ],
           "sequentialminus": [
            [
             0.0,
             "#0d0887"
            ],
            [
             0.1111111111111111,
             "#46039f"
            ],
            [
             0.2222222222222222,
             "#7201a8"
            ],
            [
             0.3333333333333333,
             "#9c179e"
            ],
            [
             0.4444444444444444,
             "#bd3786"
            ],
            [
             0.5555555555555556,
             "#d8576b"
            ],
            [
             0.6666666666666666,
             "#ed7953"
            ],
            [
             0.7777777777777778,
             "#fb9f3a"
            ],
            [
             0.8888888888888888,
             "#fdca26"
            ],
            [
             1.0,
             "#f0f921"
            ]
           ],
           "diverging": [
            [
             0,
             "#8e0152"
            ],
            [
             0.1,
             "#c51b7d"
            ],
            [
             0.2,
             "#de77ae"
            ],
            [
             0.3,
             "#f1b6da"
            ],
            [
             0.4,
             "#fde0ef"
            ],
            [
             0.5,
             "#f7f7f7"
            ],
            [
             0.6,
             "#e6f5d0"
            ],
            [
             0.7,
             "#b8e186"
            ],
            [
             0.8,
             "#7fbc41"
            ],
            [
             0.9,
             "#4d9221"
            ],
            [
             1,
             "#276419"
            ]
           ]
          },
          "xaxis": {
           "gridcolor": "white",
           "linecolor": "white",
           "ticks": "",
           "title": {
            "standoff": 15
           },
           "zerolinecolor": "white",
           "automargin": true,
           "zerolinewidth": 2
          },
          "yaxis": {
           "gridcolor": "white",
           "linecolor": "white",
           "ticks": "",
           "title": {
            "standoff": 15
           },
           "zerolinecolor": "white",
           "automargin": true,
           "zerolinewidth": 2
          },
          "scene": {
           "xaxis": {
            "backgroundcolor": "#E5ECF6",
            "gridcolor": "white",
            "linecolor": "white",
            "showbackground": true,
            "ticks": "",
            "zerolinecolor": "white",
            "gridwidth": 2
           },
           "yaxis": {
            "backgroundcolor": "#E5ECF6",
            "gridcolor": "white",
            "linecolor": "white",
            "showbackground": true,
            "ticks": "",
            "zerolinecolor": "white",
            "gridwidth": 2
           },
           "zaxis": {
            "backgroundcolor": "#E5ECF6",
            "gridcolor": "white",
            "linecolor": "white",
            "showbackground": true,
            "ticks": "",
            "zerolinecolor": "white",
            "gridwidth": 2
           }
          },
          "shapedefaults": {
           "line": {
            "color": "#2a3f5f"
           }
          },
          "annotationdefaults": {
           "arrowcolor": "#2a3f5f",
           "arrowhead": 0,
           "arrowwidth": 1
          },
          "geo": {
           "bgcolor": "white",
           "landcolor": "#E5ECF6",
           "subunitcolor": "white",
           "showland": true,
           "showlakes": true,
           "lakecolor": "white"
          },
          "title": {
           "x": 0.05
          },
          "mapbox": {
           "style": "light"
          }
         }
        },
        "title": {
         "text": "Matrice de corrélation ",
         "y": 0.95,
         "x": 0.5,
         "xanchor": "center",
         "yanchor": "top"
        },
        "width": 800,
        "height": 600
       },
       "config": {
        "plotlyServerURL": "https://plot.ly"
       }
      }
     },
     "metadata": {},
     "output_type": "display_data"
    }
   ],
   "execution_count": 15
  },
  {
   "metadata": {},
   "cell_type": "markdown",
   "source": "### 3. Prétaitement des données",
   "id": "95fcb4b2d5a4a0ea"
  },
  {
   "metadata": {
    "ExecuteTime": {
     "end_time": "2025-10-14T13:50:32.388214Z",
     "start_time": "2025-10-14T13:50:32.382482Z"
    }
   },
   "cell_type": "code",
   "source": [
    "X = data[['credit_lines_outstanding', 'loan_amt_outstanding',\n",
    "          'total_debt_outstanding', 'income', 'years_employed', 'fico_score']]\n",
    "\n",
    "y = data['default']"
   ],
   "id": "a0951150fcd9bba2",
   "outputs": [],
   "execution_count": 16
  },
  {
   "metadata": {
    "ExecuteTime": {
     "end_time": "2025-10-14T13:50:34.260326Z",
     "start_time": "2025-10-14T13:50:34.249455Z"
    }
   },
   "cell_type": "code",
   "source": [
    "from sklearn.preprocessing import StandardScaler\n",
    "\n",
    "scaler = StandardScaler()\n",
    "X_scaled = scaler.fit_transform(X)"
   ],
   "id": "3e9758eba5fb4e66",
   "outputs": [],
   "execution_count": 17
  },
  {
   "metadata": {
    "ExecuteTime": {
     "end_time": "2025-10-14T13:50:35.915539Z",
     "start_time": "2025-10-14T13:50:35.849880Z"
    }
   },
   "cell_type": "code",
   "source": [
    "processed = pd.DataFrame(X_scaled, columns=X.columns)\n",
    "processed['default'] = y\n",
    "processed.to_csv(\"data/loan_data_preprocessed.csv\", index=False)"
   ],
   "id": "53c1172743be842d",
   "outputs": [],
   "execution_count": 18
  }
 ],
 "metadata": {
  "kernelspec": {
   "display_name": "Python 3",
   "language": "python",
   "name": "python3"
  },
  "language_info": {
   "codemirror_mode": {
    "name": "ipython",
    "version": 2
   },
   "file_extension": ".py",
   "mimetype": "text/x-python",
   "name": "python",
   "nbconvert_exporter": "python",
   "pygments_lexer": "ipython2",
   "version": "2.7.6"
  }
 },
 "nbformat": 4,
 "nbformat_minor": 5
}
